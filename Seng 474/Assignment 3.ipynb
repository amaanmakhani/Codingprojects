{
 "cells": [
  {
   "cell_type": "code",
   "execution_count": null,
   "metadata": {},
   "outputs": [],
   "source": [
    "import sys\n",
    "import numpy as np\n",
    "import pandas as pd\n",
    "from sklearn.cluster import AgglomerativeClustering\n",
    "from scipy.cluster.hierarchy import dendrogram, linkage\n",
    "from matplotlib import pyplot as plt\n",
    "import random\n",
    "import matplotlib.cm as cm\n",
    "from mpl_toolkits import mplot3d\n",
    "import time"
   ]
  },
  {
   "cell_type": "code",
   "execution_count": null,
   "metadata": {},
   "outputs": [],
   "source": [
    "# Load datasets\n",
    "df = pd.read_csv('dataset1.csv', header = None)\n",
    "dataset1 = df.values.tolist()\n",
    "df = pd.read_csv('dataset2.csv', header = None)\n",
    "dataset2 = df.values.tolist()"
   ]
  },
  {
   "cell_type": "code",
   "execution_count": null,
   "metadata": {},
   "outputs": [],
   "source": [
    "def plotGraph(x, fx, filename):\n",
    "    plt.clf()\n",
    "    plt.plot(x, fx,'-o', linewidth=3.0)\n",
    "    plt.xlabel(\"Number of Clusters\")\n",
    "    plt.ylabel('Cost')\n",
    "    plt.xlim(2, max(x))\n",
    "    plt.ylim(0, max(fx)+200)\n",
    "    plt.title(\"Number of Clusters vs. Cost\")\n",
    "    plt.savefig(filename  + '.png')\n",
    "    plt.show()"
   ]
  },
  {
   "cell_type": "code",
   "execution_count": null,
   "metadata": {},
   "outputs": [],
   "source": [
    "def cost(clusters, centers):\n",
    "    cost = 0\n",
    "    for cluster, center in zip(clusters, centers):\n",
    "        for datapoint in cluster:\n",
    "            cost += (np.linalg.norm(list(np.array(datapoint) - np.array(center))))**2\n",
    "    return cost"
   ]
  },
  {
   "cell_type": "code",
   "execution_count": null,
   "metadata": {},
   "outputs": [],
   "source": [
    "def create2DScatter(clusters, centers):\n",
    "    colors = cm.rainbow(np.linspace(0, 1, len(clusters)))\n",
    "    fig = plt.figure(figsize = (10, 7))\n",
    "    for cluster, c in zip(clusters, colors):\n",
    "        plt.scatter([dataset[0] for dataset in cluster], [dataset[1] for dataset in cluster], color = c)    \n",
    "    return plt.scatter([dataset[0] for dataset in centers], [dataset[1] for dataset in centers], color = 'k', marker = 'x',s = 80, linewidths=4)"
   ]
  },
  {
   "cell_type": "code",
   "execution_count": null,
   "metadata": {},
   "outputs": [],
   "source": [
    "def create3DScatter(clusters, centers):\n",
    "    colors = cm.rainbow(np.linspace(0, 1, len(clusters)))\n",
    "    fig = plt.figure(figsize = (15, 10))\n",
    "    # Add gridlines\n",
    "    ax = plt.axes(projection =\"3d\") \n",
    "    ax.grid(b = True, color ='grey', linestyle ='-.', linewidth = 0.3, alpha = 0.2)  \n",
    "    ax.set_xlabel('X-axis', fontweight ='bold')  \n",
    "    ax.set_ylabel('Y-axis', fontweight ='bold')  \n",
    "    ax.set_zlabel('Z-axis', fontweight ='bold')\n",
    "    ax.view_init(0, 90)\n",
    "    ax.set_yticks([])\n",
    "    for cluster, c in zip(clusters, colors):\n",
    "        ax.scatter3D([dataset[0] for dataset in cluster], [dataset[1] for dataset in cluster], [dataset[2] for dataset in cluster], color = c)\n",
    "    return ax.scatter3D([dataset[0] for dataset in centers], [dataset[1] for dataset in centers], [dataset[2] for dataset in centers], marker = 'x', color = 'k', s = 80)"
   ]
  },
  {
   "cell_type": "code",
   "execution_count": null,
   "metadata": {},
   "outputs": [],
   "source": [
    "# Lloyd's algorithm using Euclidean distance:\n",
    "# Initialization methods:\n",
    "# 1) uniform random intialization\n",
    "# 2) K-means++ initialization \n",
    "def executeLloyd(dataset, k, initialization):\n",
    "    if initialization == \"uniform random\":\n",
    "        centers = random.sample(dataset, k)\n",
    "    elif initialization == \"k-means++\":\n",
    "        centers = random.sample(dataset, 1)\n",
    "        for i in range(k-1):\n",
    "            # Store distance of datapoints from last centriod\n",
    "            distances = []\n",
    "            for datapoint in dataset:\n",
    "                dist = sys.maxsize\n",
    "                # Compute the distance from the point to previously selected centers\n",
    "                for center in centers:\n",
    "                    temp = np.linalg.norm(list(np.array(datapoint) - np.array(center)))\n",
    "                    dist = min(dist, temp) \n",
    "                distances.append(dist)  \n",
    "            maxDistance = max(distances)\n",
    "            centers.append(dataset[distances.index(maxDistance)])                     \n",
    "    else:\n",
    "        raise Exception(\"Invalid initialization type\")\n",
    "    prevCenters = []\n",
    "    while prevCenters != centers:\n",
    "        clusters = [[] for i in range(k)]\n",
    "        # Place point in cluster\n",
    "        for datapoint in dataset:\n",
    "            distances = []\n",
    "            for center in centers:\n",
    "                distances.append(np.linalg.norm(list(np.array(datapoint) - np.array(center))))\n",
    "            minDistance = min(distances)\n",
    "            clusters[distances.index(minDistance)].append(datapoint)\n",
    "        # Update cluster center\n",
    "        prevCenters = centers\n",
    "        centers = []\n",
    "        for cluster in clusters:\n",
    "           centers.append(list(np.mean(cluster, axis=0)))\n",
    "    return [clusters, centers]"
   ]
  },
  {
   "cell_type": "code",
   "execution_count": null,
   "metadata": {},
   "outputs": [],
   "source": [
    "def createDendogram(dataset,disimilarityMeasure, title):\n",
    "    linked = linkage(dataset, disimilarityMeasure)\n",
    "    labelList = range(1,len(dataset)+1)\n",
    "    plt.figure(figsize=(20, 10))\n",
    "    plt.title(title, fontsize= 30)\n",
    "    dendrogram(linked, truncate_mode = 'lastp', orientation='top', labels=labelList)"
   ]
  },
  {
   "cell_type": "code",
   "execution_count": null,
   "metadata": {},
   "outputs": [],
   "source": [
    "# Hierarchical agglomerative clusting using Euclidean distance:\n",
    "# Disimilarity measures:\n",
    "# 1) single linkage\n",
    "# 2) average linkage\n",
    "def executeHierarchicalAgglomerativeClusting(dataset, k, disimilarityMeasure, title, is3D = False):   \n",
    "    model = AgglomerativeClustering(n_clusters = k, linkage = disimilarityMeasure)\n",
    "    model.fit_predict(dataset)\n",
    "    if is3D:\n",
    "        fig = plt.figure(figsize = (15, 10))\n",
    "        # Add gridlines\n",
    "        ax = plt.axes(projection =\"3d\") \n",
    "        ax.grid(b = True, color ='grey', linestyle ='-.', linewidth = 0.3, alpha = 0.2)  \n",
    "        ax.set_xlabel('X-axis', fontweight ='bold')  \n",
    "        ax.set_ylabel('Y-axis', fontweight ='bold')  \n",
    "        ax.set_zlabel('Z-axis', fontweight ='bold') \n",
    "        ax.view_init(0, 90)\n",
    "        ax.set_yticks([])\n",
    "        ax.scatter3D([point[0] for point in dataset], [point[1] for point in dataset], [point[2] for point in dataset], c = model.labels_, cmap = 'rainbow')\n",
    "        plt.title(title, fontsize= 30)\n",
    "    else:\n",
    "        fig = plt.figure(figsize = (10, 7))\n",
    "        plt.title(title, fontsize= 30)\n",
    "        plt.scatter([point[0] for point in dataset], [point[1] for point in dataset], c=model.labels_, cmap='rainbow')"
   ]
  },
  {
   "cell_type": "code",
   "execution_count": null,
   "metadata": {},
   "outputs": [],
   "source": [
    "# Task 1\n",
    "# Dataset 1\n",
    "# Lloyd's algorithm using Euclidean distance:\n",
    "# Initialization method uniform random intialization\n",
    "x = [k for k in range(2, 11)]\n",
    "y = []\n",
    "for k in range(2, 11):\n",
    "    result = executeLloyd(dataset1, k, \"uniform random\")\n",
    "    y.append(cost(result[0], result[1]))\n",
    "    create2DScatter(result[0], result[1])\n",
    "    plt.title(str(k) + '-clusters')\n",
    "    plt.savefig('A3/Q1/2D-' + str(k) + '-clusters lloyd\\'s' + '.png')\n",
    "    time.sleep(3)\n",
    "create2DScatter([dataset1], [])\n",
    "plt.title(\"Original Dataset\")\n",
    "plt.savefig('A3/Q1/2D ' + 'original dataset' + '.png')\n",
    "plt.show()"
   ]
  },
  {
   "cell_type": "code",
   "execution_count": null,
   "metadata": {},
   "outputs": [],
   "source": [
    "plotGraph(x, y, \"A3/Q1/Cost of Clusters, Dataset 1, uniform random.png\")"
   ]
  },
  {
   "cell_type": "code",
   "execution_count": null,
   "metadata": {},
   "outputs": [],
   "source": [
    "# Task 1\n",
    "# Dataset 2\n",
    "# Lloyd's algorithm using Euclidean distance:\n",
    "# Initialization method uniform random intialization\n",
    "x = [k for k in range(2, 11)]\n",
    "y = []\n",
    "for k in range(2, 11):\n",
    "    result = executeLloyd(dataset2, k, \"uniform random\")\n",
    "    y.append(cost(result[0], result[1]))\n",
    "    create3DScatter(result[0], result[1])\n",
    "    plt.title(str(k) + '-clusters', fontsize= 30)\n",
    "    plt.savefig('A3/Q1/3D-' + str(k) + '-clusters lloyd\\'s' + '.png')\n",
    "    time.sleep(3)\n",
    "create3DScatter([dataset2], [])\n",
    "plt.title(\"Original Dataset\", fontsize= 30)\n",
    "plt.savefig('A3/Q1/3D ' + 'original dataset' + '.png')\n",
    "plt.show()"
   ]
  },
  {
   "cell_type": "code",
   "execution_count": null,
   "metadata": {},
   "outputs": [],
   "source": [
    "plotGraph(x, y, \"A3/Q1/Cost of Clusters, Dataset 2, uniform random.png\")"
   ]
  },
  {
   "cell_type": "code",
   "execution_count": null,
   "metadata": {},
   "outputs": [],
   "source": [
    "# Task 2\n",
    "# Dataset 1\n",
    "# Lloyd's algorithm using Euclidean distance:\n",
    "# Initialization method K-means++ initialization \n",
    "x = [k for k in range(2, 11)]\n",
    "y = []\n",
    "for k in range(2, 11):\n",
    "    result = executeLloyd(dataset1, k, \"k-means++\")\n",
    "    y.append(cost(result[0], result[1]))\n",
    "    create2DScatter(result[0], result[1])\n",
    "    plt.title(str(k) + '-clusters')\n",
    "    plt.savefig('A3/Q2/2D-' + str(k) + '-clusters lloyd\\'s' + '.png')\n",
    "    time.sleep(3)\n",
    "create2DScatter([dataset1], [])\n",
    "plt.title(\"Original Dataset\")\n",
    "plt.savefig('A3/Q2/2D ' + 'original dataset' + '.png')\n",
    "plt.show()"
   ]
  },
  {
   "cell_type": "code",
   "execution_count": null,
   "metadata": {},
   "outputs": [],
   "source": [
    "plotGraph(x, y, \"A3/Q2/Cost of Clusters, Dataset 1, k-means++.png\")"
   ]
  },
  {
   "cell_type": "code",
   "execution_count": null,
   "metadata": {},
   "outputs": [],
   "source": [
    "# Task 2\n",
    "# Dataset 2\n",
    "# Lloyd's algorithm using Euclidean distance:\n",
    "# Initialization method K-means++ initialization\n",
    "x = [k for k in range(2, 11)]\n",
    "y = []\n",
    "for k in range(2, 11):\n",
    "    result = executeLloyd(dataset2, k, \"k-means++\")\n",
    "    y.append(cost(result[0], result[1]))\n",
    "    create3DScatter(result[0], result[1])\n",
    "    plt.title(str(k) + '-clusters', fontsize= 30)\n",
    "    plt.savefig('A3/Q2/3D-' + str(k) + '-clusters lloyd\\'s' + '.png')\n",
    "    time.sleep(3)\n",
    "create3DScatter([dataset2], [])\n",
    "plt.title(\"Original Dataset\", fontsize= 30)\n",
    "plt.savefig('A3/Q2/3D ' + 'original dataset' + '.png')\n",
    "plt.show()"
   ]
  },
  {
   "cell_type": "code",
   "execution_count": null,
   "metadata": {},
   "outputs": [],
   "source": [
    "plotGraph(x, y, \"A3/Q2/Cost of Clusters, Dataset 2, k-means++.png\")"
   ]
  },
  {
   "cell_type": "code",
   "execution_count": null,
   "metadata": {
    "scrolled": false
   },
   "outputs": [],
   "source": [
    "# Task 3\n",
    "# Dataset 1\n",
    "# Hierarchical agglomerative clusting using Euclidean distance\n",
    "# Using single linkage for disimilarity measure \n",
    "createDendogram(dataset1, \"single\", \"Single Linkage Dendogram - Dataset 1\")\n",
    "plt.savefig('A3/Q3/Single Linkage Dendogram - Dataset 1.png')"
   ]
  },
  {
   "cell_type": "code",
   "execution_count": null,
   "metadata": {},
   "outputs": [],
   "source": [
    "executeHierarchicalAgglomerativeClusting(dataset1, 7, \"single\", \"HAC Single Linkage - Dataset 1\")\n",
    "plt.savefig('A3/Q3/HAC Single Linkage - Dataset 1.png')"
   ]
  },
  {
   "cell_type": "code",
   "execution_count": null,
   "metadata": {
    "scrolled": false
   },
   "outputs": [],
   "source": [
    "# Task 3\n",
    "# Dataset 2\n",
    "# Hierarchical agglomerative clusting using Euclidean distance\n",
    "# Using single linkage for disimilarity measure \n",
    "createDendogram(dataset2, \"single\", \"Single Linkage Dendogram - Dataset 2\")\n",
    "plt.savefig('A3/Q3/Single Linkage Dendogram - Dataset 2.png')"
   ]
  },
  {
   "cell_type": "code",
   "execution_count": null,
   "metadata": {},
   "outputs": [],
   "source": [
    "executeHierarchicalAgglomerativeClusting(dataset2, 2, \"single\", \"HAC Single Linkage - Dataset 2\", is3D = True)\n",
    "plt.savefig('A3/Q3/HAC Single Linkage - Dataset 2.png')"
   ]
  },
  {
   "cell_type": "code",
   "execution_count": null,
   "metadata": {
    "scrolled": false
   },
   "outputs": [],
   "source": [
    "# Task 4\n",
    "# Dataset 1\n",
    "# Hierarchical agglomerative clusting using Euclidean distance\n",
    "# Using average linkage for disimilarity measure \n",
    "createDendogram(dataset1, \"average\", \"Average Linkage Dendogram - Dataset 1\")\n",
    "plt.savefig('A3/Q4/Average Linkage Dendogram - Dataset 1.png')"
   ]
  },
  {
   "cell_type": "code",
   "execution_count": null,
   "metadata": {},
   "outputs": [],
   "source": [
    "executeHierarchicalAgglomerativeClusting(dataset1, 2, \"average\", \"HAC Average Linkage - Dataset 1\")\n",
    "plt.savefig('A3/Q4/HAC Average Linkage - Dataset 1.png')"
   ]
  },
  {
   "cell_type": "code",
   "execution_count": null,
   "metadata": {
    "scrolled": false
   },
   "outputs": [],
   "source": [
    "# Task 4\n",
    "# Dataset 2\n",
    "# Hierarchical agglomerative clusting using Euclidean distance\n",
    "# Using average linkage for disimilarity measure \n",
    "createDendogram(dataset2, \"average\", \"Average Linkage Dendogram - Dataset 2\")\n",
    "plt.savefig('A3/Q4/Average Linkage Dendogram - Dataset 2.png')"
   ]
  },
  {
   "cell_type": "code",
   "execution_count": null,
   "metadata": {},
   "outputs": [],
   "source": [
    "executeHierarchicalAgglomerativeClusting(dataset2, 7, \"average\", \"HAC Average Linkage - Dataset 2\", is3D = True)\n",
    "plt.savefig('A3/Q4/HAC Average Linkage - Dataset 2.png')"
   ]
  }
 ],
 "metadata": {
  "kernelspec": {
   "display_name": "Python 3",
   "language": "python",
   "name": "python3"
  },
  "language_info": {
   "codemirror_mode": {
    "name": "ipython",
    "version": 3
   },
   "file_extension": ".py",
   "mimetype": "text/x-python",
   "name": "python",
   "nbconvert_exporter": "python",
   "pygments_lexer": "ipython3",
   "version": "3.8.3"
  }
 },
 "nbformat": 4,
 "nbformat_minor": 4
}
