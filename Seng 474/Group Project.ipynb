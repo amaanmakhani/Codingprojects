{
 "cells": [
  {
   "cell_type": "code",
   "execution_count": null,
   "metadata": {},
   "outputs": [],
   "source": [
    "import sklearn as sk\n",
    "from matplotlib import pyplot as plt\n",
    "from sklearn.model_selection import GridSearchCV\n",
    "from sklearn.metrics import classification_report, confusion_matrix, accuracy_score\n",
    "from sklearn.model_selection import train_test_split\n",
    "from sklearn import metrics\n",
    "from sklearn.neural_network import MLPClassifier"
   ]
  },
  {
   "cell_type": "code",
   "execution_count": null,
   "metadata": {},
   "outputs": [],
   "source": [
    "import numpy as np\n",
    "import pandas as pd\n",
    "import random\n",
    "def apply(dataRow):\n",
    "    ret = list(dataRow[0:11])\n",
    "    if random.choice([True, False]):\n",
    "        ret = list(dataRow[0:2])\n",
    "        ret.extend(list(dataRow[6:10]))\n",
    "        ret.extend(list(dataRow[2:6]))\n",
    "        ret.append('0')\n",
    "    return ret\n",
    "\n",
    "def addStats(dataRow, playerData):\n",
    "    ret = list(dataRow[0:2])\n",
    "    ret.extend(list(playerData[float(dataRow[2])]))\n",
    "    ret.extend(list(dataRow[3:6]))\n",
    "    ret.extend(list(playerData[float(dataRow[6])]))\n",
    "    ret.extend(list(dataRow[7:]))\n",
    "    return ret"
   ]
  },
  {
   "cell_type": "code",
   "execution_count": null,
   "metadata": {
    "scrolled": true
   },
   "outputs": [],
   "source": [
    "# Load data\n",
    "fGameData = pd.read_csv(\"ATP_data_cleaned.csv\", delimiter=',')\n",
    "gameData = np.array([list(row) for row in fGameData.values])\n",
    "# Seperate features and target columns\n",
    "gameData =  np.array([apply(item) for item in gameData])\n",
    "X = gameData[:, 0:10]\n",
    "Y = gameData[:, 10]\n",
    "# Add in player data\n",
    "fGameData = pd.read_csv(\"ATP_player_data.csv\", delimiter=',')\n",
    "playerData = np.array([list(row) for row in fGameData.values])\n",
    "playerData = dict((float(row[1]),list(row[2:])) for row in playerData)\n",
    "X = np.array([addStats(item, playerData) for item in X], dtype='float64')\n",
    "X = X.astype(np.float)"
   ]
  },
  {
   "cell_type": "markdown",
   "metadata": {},
   "source": [
    "Misc functions\n",
    "--"
   ]
  },
  {
   "cell_type": "code",
   "execution_count": null,
   "metadata": {},
   "outputs": [],
   "source": [
    "def stats(pred, test):\n",
    "    print(\"\\n-----------------------------------Report------------------------------------\")\n",
    "    print(classification_report(test,pred))\n",
    "    print('Accuracy: ',accuracy_score(test, pred))\n",
    "    print(\"\\n\")\n",
    "    return accuracy_score(test, pred)"
   ]
  },
  {
   "cell_type": "code",
   "execution_count": null,
   "metadata": {},
   "outputs": [],
   "source": [
    "def findBestParams(X, Y, pIndex):\n",
    "    parameters = {'solver': ['lbfgs','sgd'], 'max_iter': np.arange(start=1, stop=800, step=5),'hidden_layer_sizes': np.arange(10, 200, 10), 'learning_rate': ['constant', 'invscaling', 'adaptive']} \n",
    "    clf = GridSearchCV(MLPClassifier(), parameters, n_jobs=-1)\n",
    "    clf.fit(X,Y)\n",
    "    print(clf.best_params_)\n",
    "    print(clf.best_score_)"
   ]
  },
  {
   "cell_type": "markdown",
   "metadata": {},
   "source": [
    "Plot Graph\n",
    "--"
   ]
  },
  {
   "cell_type": "code",
   "execution_count": null,
   "metadata": {},
   "outputs": [],
   "source": [
    "def plotGraph(a, fa, b, fb, name, xvalrange = 100, xAxisTitle = 'Test Size (%)', title = \"Test Size\", digits = 5):\n",
    "    plt.clf()\n",
    "    plt.plot(a, fa, linewidth=3.0, label='Training Data')\n",
    "    plt.plot(b, fb, linewidth=3.0, label='Test Data')\n",
    "    ymax = max(fb)\n",
    "    plt.xlabel(xAxisTitle)\n",
    "    plt.ylabel('Error (%)')\n",
    "    plt.xlim(0, xvalrange)\n",
    "    plt.ylim(0, ymax + 10)\n",
    "    plt.title(title + ' vs. Error')\n",
    "    plt.legend(loc = 'lower right')\n",
    "    plt.savefig(name  + '.png')"
   ]
  },
  {
   "cell_type": "markdown",
   "metadata": {},
   "source": [
    "Build Artificial Neural Network\n",
    "--"
   ]
  },
  {
   "cell_type": "code",
   "execution_count": null,
   "metadata": {},
   "outputs": [],
   "source": [
    "def executeNeuralNetwork(X, Y, testSize = 0.2, rand = 0, layers = (100,), solverType = 'adam', a = 0.0001, learningRate = 'constant', learningRateVal = 0.001, iterations = 200, earlyStopping = False, validationSet = 0.1, act = 'relu'):\n",
    "    classifier =  MLPClassifier(hidden_layer_sizes = layers , solver = solverType, alpha = a, learning_rate = learningRate, learning_rate_init = learningRateVal , max_iter = iterations, random_state = rand, early_stopping = earlyStopping, validation_fraction = validationSet, activation = act)\n",
    "    # hidden_layer_sizes: The ith element represents the number of neurons in the ith hidden layer.\n",
    "    # solver: ‘lbfgs’ is an optimizer in the family of quasi-Newton methods, and ‘sgd’ refers to stochastic gradient descent.\n",
    "    # alpha: L2 penalty (regularization term) parameter.\n",
    "    # learning_rate: Learning rate schedule for weight updates, and only used when solver='sgd'.\n",
    "    # learning_rate_init: The initial learning rate used. It controls the step-size in updating the weights. Only used when solver=’sgd’ or ‘adam’.\n",
    "    # max_iter: Maximum number of iterations. For sgd this determines the number of epochs (how many times each data point will be used), not the number of gradient steps.\n",
    "    # random_state: Determines random number generation for weights and bias initialization.\n",
    "    # early_stopping: Whether to use early stopping to terminate training when validation score is not improving.\n",
    "    #                 If set to true, it will automatically set aside 10% of training data as validation and terminate training when validation score is not improving.\n",
    "    #                 Only effective when solver=’sgd’ or ‘adam’.\n",
    "    # validation_fraction: The proportion of training data to set aside as validation set for early stopping. Must be between 0 and 1. Only used if early_stopping is True.\n",
    "    result = []\n",
    "    print(\"Parameters:\")\n",
    "    print(classifier.get_params())\n",
    "    xTrain, xTest, yTrain, yTest = train_test_split(X, Y, test_size = testSize, random_state = rand)\n",
    "    clf = classifier.fit(xTrain, yTrain)    \n",
    "    result.append(1 - stats(clf.predict(xTrain), yTrain))\n",
    "    result.append(1 - stats(clf.predict(xTest), yTest))\n",
    "    return [result, clf]"
   ]
  },
  {
   "cell_type": "markdown",
   "metadata": {},
   "source": [
    "Main program -- Neural Networks\n",
    "--"
   ]
  },
  {
   "cell_type": "code",
   "execution_count": null,
   "metadata": {
    "scrolled": false
   },
   "outputs": [],
   "source": [
    " executeNeuralNetwork(X, Y, solverType = 'sgd')"
   ]
  },
  {
   "cell_type": "code",
   "execution_count": null,
   "metadata": {
    "scrolled": false
   },
   "outputs": [],
   "source": [
    " executeNeuralNetwork(X, Y)"
   ]
  },
  {
   "cell_type": "code",
   "execution_count": null,
   "metadata": {
    "scrolled": false
   },
   "outputs": [],
   "source": [
    " executeNeuralNetwork(X, Y, solverType = 'sgd', act = 'tanh')"
   ]
  },
  {
   "cell_type": "code",
   "execution_count": null,
   "metadata": {
    "scrolled": false
   },
   "outputs": [],
   "source": [
    " executeNeuralNetwork(X, Y, act = 'tanh')"
   ]
  },
  {
   "cell_type": "code",
   "execution_count": null,
   "metadata": {},
   "outputs": [],
   "source": [
    " executeNeuralNetwork(X, Y, act = 'logistic', solverType = 'sgd')"
   ]
  },
  {
   "cell_type": "code",
   "execution_count": null,
   "metadata": {},
   "outputs": [],
   "source": [
    " executeNeuralNetwork(X, Y, act = 'logistic')"
   ]
  },
  {
   "cell_type": "code",
   "execution_count": null,
   "metadata": {},
   "outputs": [],
   "source": [
    "# Using\n",
    "# https://scikit-learn.org/stable/modules/generated/sklearn.neural_network.MLPClassifier.html\n",
    "x = []\n",
    "fa = []\n",
    "fb = []\n",
    "for i in range(200,4000,200):\n",
    "    Error = executeNeuralNetwork(X, Y, iterations = i)\n",
    "    x.append(i)\n",
    "    fa.append(Error[0][0] * 100)\n",
    "    fb.append(Error[0][1] * 100)\n",
    "    \n",
    "plotGraph(x, fa, x, fb, \"Group Project\", xvalrange = 4000, xAxisTitle = \"Number of Iterations\", title = \"Number of Iterations\")"
   ]
  },
  {
   "cell_type": "code",
   "execution_count": null,
   "metadata": {},
   "outputs": [],
   "source": [
    "# Using\n",
    "# https://scikit-learn.org/stable/modules/generated/sklearn.neural_network.MLPClassifier.html\n",
    "x = []\n",
    "fa = []\n",
    "fb = []\n",
    "for i in range(1,5):\n",
    "    Error = executeNeuralNetwork(X, Y, layers = tuple([100 for item in range(1,i)]), act = 'logistic')\n",
    "    x.append(i)\n",
    "    fa.append(Error[0][0] * 100)\n",
    "    fb.append(Error[0][1] * 100)\n",
    "    \n",
    "plotGraph(x, fa, x, fb, \"Group Project\", xvalrange = 4, xAxisTitle = \"Number of Layers\", title = \"Number of Layers\")"
   ]
  },
  {
   "cell_type": "code",
   "execution_count": null,
   "metadata": {},
   "outputs": [],
   "source": [
    "# Using\n",
    "# https://scikit-learn.org/stable/modules/generated/sklearn.neural_network.MLPClassifier.html\n",
    "x = []\n",
    "fa = []\n",
    "fb = []\n",
    "for i in range(1,202,10):\n",
    "    Error = executeNeuralNetwork(X, Y, layers = tuple([i]*2), act = 'logistic')\n",
    "    x.append(i)\n",
    "    fa.append(Error[0][0] * 100)\n",
    "    fb.append(Error[0][1] * 100)\n",
    "    \n",
    "plotGraph(x, fa, x, fb, \"Group Project\", xvalrange = 200, xAxisTitle = \"Size of Hidden Layer\", title = \"Size of Hidden Layer\")"
   ]
  },
  {
   "cell_type": "code",
   "execution_count": null,
   "metadata": {},
   "outputs": [],
   "source": [
    "executeNeuralNetwork(X, Y, layers = tuple([10]*2), solverType= 'sgd', act = 'logistic', earlyStopping = True)"
   ]
  },
  {
   "cell_type": "code",
   "execution_count": null,
   "metadata": {},
   "outputs": [],
   "source": [
    "executeNeuralNetwork(X, Y, layers = tuple([10]*2), learningRate = 'invscaling', act = 'logistic', earlyStopping = True)"
   ]
  }
 ],
 "metadata": {
  "kernelspec": {
   "display_name": "Python 3",
   "language": "python",
   "name": "python3"
  },
  "language_info": {
   "codemirror_mode": {
    "name": "ipython",
    "version": 3
   },
   "file_extension": ".py",
   "mimetype": "text/x-python",
   "name": "python",
   "nbconvert_exporter": "python",
   "pygments_lexer": "ipython3",
   "version": "3.8.3"
  }
 },
 "nbformat": 4,
 "nbformat_minor": 4
}
