{
 "cells": [
  {
   "cell_type": "markdown",
   "metadata": {},
   "source": [
    "# Numpy Tutorial\n",
    "**Data Mining Lab, University of Victoria, Summer2020** <br>\n",
    "(Y.Sant)"
   ]
  },
  {
   "cell_type": "code",
   "execution_count": null,
   "metadata": {},
   "outputs": [],
   "source": [
    "import sklearn as sk\n",
    "import numpy as np\n",
    "import scipy\n",
    "import pandas"
   ]
  },
  {
   "cell_type": "code",
   "execution_count": 82,
   "metadata": {},
   "outputs": [],
   "source": [
    "from sklearn.datasets import load_wine, load_iris, load_boston, load_diabetes\n",
    "from sklearn import tree\n",
    "from sklearn.metrics import classification_report, confusion_matrix, accuracy_score\n",
    "from sklearn.model_selection import train_test_split\n",
    "from sklearn.ensemble import RandomForestClassifier\n",
    "from sklearn.ensemble import RandomForestRegressor\n",
    "from sklearn import metrics\n"
   ]
  },
  {
   "cell_type": "code",
   "execution_count": 76,
   "metadata": {},
   "outputs": [
    {
     "name": "stdout",
     "output_type": "stream",
     "text": [
      "(150, 4)\n",
      "(120, 4)\n"
     ]
    }
   ],
   "source": [
    "data_set = load_iris\n",
    "data = data_set()\n",
    "print(data.data.shape)\n",
    "\n",
    "decision_tree = tree.DecisionTreeClassifier(max_depth=3, criterion='entropy') # min_impurity_decrease = 0.5, min_samples_split = 10 \n",
    "\n",
    "X_train, X_test, y_train, y_test = train_test_split(data.data, data.target, test_size=0.2, random_state=0)\n",
    "print(X_train.shape)\n",
    "clf = decision_tree.fit(X_train, y_train)\n",
    "y_pred = clf.predict(X_test)"
   ]
  },
  {
   "cell_type": "code",
   "execution_count": 79,
   "metadata": {},
   "outputs": [],
   "source": [
    "#tree.plot_tree(clf) if we had matplotlib, it would work!\n",
    "# Graphviz!"
   ]
  },
  {
   "cell_type": "code",
   "execution_count": 83,
   "metadata": {},
   "outputs": [
    {
     "name": "stdout",
     "output_type": "stream",
     "text": [
      "|--- petal width (cm) <= 0.80\n",
      "|   |--- class: 0\n",
      "|--- petal width (cm) >  0.80\n",
      "|   |--- petal width (cm) <= 1.75\n",
      "|   |   |--- petal length (cm) <= 4.95\n",
      "|   |   |   |--- class: 1\n",
      "|   |   |--- petal length (cm) >  4.95\n",
      "|   |   |   |--- class: 2\n",
      "|   |--- petal width (cm) >  1.75\n",
      "|   |   |--- petal length (cm) <= 4.85\n",
      "|   |   |   |--- class: 1\n",
      "|   |   |--- petal length (cm) >  4.85\n",
      "|   |   |   |--- class: 2\n",
      "\n"
     ]
    }
   ],
   "source": [
    "visual = tree.export_text(clf, feature_names=data['feature_names'])\n",
    "print(visual)"
   ]
  },
  {
   "cell_type": "code",
   "execution_count": 72,
   "metadata": {},
   "outputs": [
    {
     "name": "stdout",
     "output_type": "stream",
     "text": [
      "Mean Absolute Error: 0.03333333333333333\n",
      "Mean Squared Error: 0.03333333333333333\n",
      "Root Mean Squared Error: 0.18257418583505536\n",
      "[[11  0  0]\n",
      " [ 0 13  0]\n",
      " [ 0  1  5]]\n",
      "              precision    recall  f1-score   support\n",
      "\n",
      "           0       1.00      1.00      1.00        11\n",
      "           1       0.93      1.00      0.96        13\n",
      "           2       1.00      0.83      0.91         6\n",
      "\n",
      "    accuracy                           0.97        30\n",
      "   macro avg       0.98      0.94      0.96        30\n",
      "weighted avg       0.97      0.97      0.97        30\n",
      "\n",
      "0.9666666666666667\n"
     ]
    }
   ],
   "source": [
    "#  abs(y_actual - y_pred)\n",
    "#  (y_actual - y_pred)^2\n",
    "print('Mean Absolute Error:', metrics.mean_absolute_error(y_test, y_pred))\n",
    "print('Mean Squared Error:', metrics.mean_squared_error(y_test, y_pred))\n",
    "# Why Mean Absolute Error and Mean Squared Error are the same? Is it always like that in classification?\n",
    "print('Root Mean Squared Error:', np.sqrt(metrics.mean_squared_error(y_test, y_pred)))\n",
    "print(confusion_matrix(y_test,y_pred))\n",
    "print(classification_report(y_test,y_pred))\n",
    "print(accuracy_score(y_test, y_pred))"
   ]
  },
  {
   "cell_type": "markdown",
   "metadata": {},
   "source": [
    "Post-Pruning\n",
    "1. https://stackoverflow.com/questions/49428469/pruning-decision-trees\n",
    "2. To do post pruning you could search cost_complexity_pruning."
   ]
  },
  {
   "cell_type": "code",
   "execution_count": 23,
   "metadata": {},
   "outputs": [
    {
     "name": "stdout",
     "output_type": "stream",
     "text": [
      "['age', 'sex', 'bmi', 'bp', 's1', 's2', 's3', 's4', 's5', 's6']\n"
     ]
    }
   ],
   "source": [
    "data_set = load_diabetes\n",
    "data = data_set()\n",
    "print(data['feature_names'])\n",
    "decision_tree = tree.DecisionTreeRegressor(max_depth=3)\n",
    "\n",
    "X_train, X_test, y_train, y_test = train_test_split(data.data, data.target, test_size=0.2, random_state=0)\n",
    "\n",
    "clf = decision_tree.fit(X_train, y_train)\n",
    "y_pred = clf.predict(X_test)"
   ]
  },
  {
   "cell_type": "code",
   "execution_count": 24,
   "metadata": {},
   "outputs": [
    {
     "name": "stdout",
     "output_type": "stream",
     "text": [
      "|--- s5 <= 0.02\n",
      "|   |--- bmi <= 0.01\n",
      "|   |   |--- s3 <= 0.02\n",
      "|   |   |   |--- value: [115.77]\n",
      "|   |   |--- s3 >  0.02\n",
      "|   |   |   |--- value: [86.21]\n",
      "|   |--- bmi >  0.01\n",
      "|   |   |--- bp <= 0.02\n",
      "|   |   |   |--- value: [147.22]\n",
      "|   |   |--- bp >  0.02\n",
      "|   |   |   |--- value: [219.59]\n",
      "|--- s5 >  0.02\n",
      "|   |--- bmi <= 0.01\n",
      "|   |   |--- bp <= 0.06\n",
      "|   |   |   |--- value: [167.43]\n",
      "|   |   |--- bp >  0.06\n",
      "|   |   |   |--- value: [261.25]\n",
      "|   |--- bmi >  0.01\n",
      "|   |   |--- bmi <= 0.06\n",
      "|   |   |   |--- value: [225.19]\n",
      "|   |   |--- bmi >  0.06\n",
      "|   |   |   |--- value: [263.23]\n",
      "\n"
     ]
    }
   ],
   "source": [
    "visual = tree.export_text(clf, feature_names=data['feature_names'])\n",
    "print(visual)\n"
   ]
  },
  {
   "cell_type": "code",
   "execution_count": 25,
   "metadata": {},
   "outputs": [
    {
     "name": "stdout",
     "output_type": "stream",
     "text": [
      "Mean Absolute Error: 55.703794688457606\n",
      "Mean Squared Error: 4778.141926493388\n",
      "Root Mean Squared Error: 69.12410524913425\n"
     ]
    }
   ],
   "source": [
    "\n",
    "print('Mean Absolute Error:', metrics.mean_absolute_error(y_test, y_pred))\n",
    "print('Mean Squared Error:', metrics.mean_squared_error(y_test, y_pred))\n",
    "# Why Mean Absolute Error and Mean Squared Error are the same? Is it always like that in classification?\n",
    "print('Root Mean Squared Error:', np.sqrt(metrics.mean_squared_error(y_test, y_pred)))"
   ]
  },
  {
   "cell_type": "code",
   "execution_count": 30,
   "metadata": {},
   "outputs": [],
   "source": [
    "# Random Forest\n",
    "\n",
    "from sklearn.model_selection import train_test_split\n",
    "data_set = load_iris\n",
    "data = data_set()\n",
    "X_train, X_test, y_train, y_test = train_test_split(data.data, data.target, test_size=0.2, random_state=0)"
   ]
  },
  {
   "cell_type": "code",
   "execution_count": 31,
   "metadata": {},
   "outputs": [],
   "source": [
    "classifier = RandomForestClassifier(n_estimators=20, random_state=0, max_features='sqrt') \n",
    "# 'auto' = 'sqrt' ==> sqrt(d)\n",
    "# None ==> d\n",
    "# int \n",
    "\n",
    "classifier.fit(X_train, y_train)\n",
    "y_pred = classifier.predict(X_test)"
   ]
  },
  {
   "cell_type": "code",
   "execution_count": 32,
   "metadata": {},
   "outputs": [
    {
     "name": "stdout",
     "output_type": "stream",
     "text": [
      "Mean Absolute Error: 0.03333333333333333\n",
      "Mean Squared Error: 0.03333333333333333\n",
      "Root Mean Squared Error: 0.18257418583505536\n",
      "[[11  0  0]\n",
      " [ 0 13  0]\n",
      " [ 0  1  5]]\n",
      "              precision    recall  f1-score   support\n",
      "\n",
      "           0       1.00      1.00      1.00        11\n",
      "           1       0.93      1.00      0.96        13\n",
      "           2       1.00      0.83      0.91         6\n",
      "\n",
      "    accuracy                           0.97        30\n",
      "   macro avg       0.98      0.94      0.96        30\n",
      "weighted avg       0.97      0.97      0.97        30\n",
      "\n",
      "0.9666666666666667\n"
     ]
    }
   ],
   "source": [
    "\n",
    "\n",
    "print('Mean Absolute Error:', metrics.mean_absolute_error(y_test, y_pred))\n",
    "print('Mean Squared Error:', metrics.mean_squared_error(y_test, y_pred))\n",
    "# Why Mean Absolute Error and Mean Squared Error are the same? Is it always like that in classification?\n",
    "print('Root Mean Squared Error:', np.sqrt(metrics.mean_squared_error(y_test, y_pred)))\n",
    "print(confusion_matrix(y_test,y_pred))\n",
    "print(classification_report(y_test,y_pred))\n",
    "print(accuracy_score(y_test, y_pred))"
   ]
  },
  {
   "cell_type": "code",
   "execution_count": 33,
   "metadata": {},
   "outputs": [],
   "source": [
    "# What is Random State?\n",
    "regressor = RandomForestRegressor(n_estimators=20, random_state=0, max_features='auto')\n",
    "regressor.fit(X_train, y_train)\n",
    "y_pred = regressor.predict(X_test)"
   ]
  },
  {
   "cell_type": "code",
   "execution_count": 34,
   "metadata": {},
   "outputs": [
    {
     "name": "stdout",
     "output_type": "stream",
     "text": [
      "Mean Absolute Error: 0.03166666666666667\n",
      "Mean Squared Error: 0.012416666666666668\n",
      "Root Mean Squared Error: 0.11143009766964519\n"
     ]
    }
   ],
   "source": [
    "\n",
    "print('Mean Absolute Error:', metrics.mean_absolute_error(y_test, y_pred))\n",
    "print('Mean Squared Error:', metrics.mean_squared_error(y_test, y_pred))\n",
    "print('Root Mean Squared Error:', np.sqrt(metrics.mean_squared_error(y_test, y_pred)))"
   ]
  },
  {
   "cell_type": "markdown",
   "metadata": {},
   "source": [
    "# Numpy\n",
    "**Data Mining Lab, University of Victoria, Spring 2020** <br>\n"
   ]
  },
  {
   "cell_type": "code",
   "execution_count": 35,
   "metadata": {},
   "outputs": [],
   "source": [
    "import numpy as np\n",
    "\n",
    "# The import below is needed so that we can display full output in Jupyter, not only the last result.\n",
    "from IPython.core.interactiveshell import InteractiveShell\n",
    "InteractiveShell.ast_node_interactivity = \"all\""
   ]
  },
  {
   "cell_type": "markdown",
   "metadata": {},
   "source": [
    "Arrays\n",
    "--\n",
    "\n",
    "The main entity in Numpy is the \"array\". Arrays are also called tensors. <br>\n",
    "A two-dimensional array is also called a matrix.\n",
    "\n",
    "**Dimensions, shapes and sizes (properties)** <br>\n",
    "ndim = the number of dimensions <br>\n",
    "shape = the dimensions (in a tuple) <br>\n",
    "size = number of elements (= the product of the numbers in the shape)"
   ]
  },
  {
   "cell_type": "code",
   "execution_count": 36,
   "metadata": {},
   "outputs": [
    {
     "data": {
      "text/plain": [
       "array([1, 2, 3])"
      ]
     },
     "execution_count": 36,
     "metadata": {},
     "output_type": "execute_result"
    },
    {
     "data": {
      "text/plain": [
       "1"
      ]
     },
     "execution_count": 36,
     "metadata": {},
     "output_type": "execute_result"
    },
    {
     "data": {
      "text/plain": [
       "(3,)"
      ]
     },
     "execution_count": 36,
     "metadata": {},
     "output_type": "execute_result"
    },
    {
     "data": {
      "text/plain": [
       "3"
      ]
     },
     "execution_count": 36,
     "metadata": {},
     "output_type": "execute_result"
    }
   ],
   "source": [
    "a = np.array([1, 2, 3])     # A 1-dimensional array\n",
    "a\n",
    "a.ndim\n",
    "a.shape\n",
    "a.size"
   ]
  },
  {
   "cell_type": "code",
   "execution_count": 37,
   "metadata": {},
   "outputs": [
    {
     "data": {
      "text/plain": [
       "array([[1, 2, 3]])"
      ]
     },
     "execution_count": 37,
     "metadata": {},
     "output_type": "execute_result"
    },
    {
     "data": {
      "text/plain": [
       "2"
      ]
     },
     "execution_count": 37,
     "metadata": {},
     "output_type": "execute_result"
    },
    {
     "data": {
      "text/plain": [
       "(1, 3)"
      ]
     },
     "execution_count": 37,
     "metadata": {},
     "output_type": "execute_result"
    },
    {
     "data": {
      "text/plain": [
       "3"
      ]
     },
     "execution_count": 37,
     "metadata": {},
     "output_type": "execute_result"
    }
   ],
   "source": [
    "b = np.array([[1, 2, 3]])   # A row vector\n",
    "b\n",
    "b.ndim\n",
    "b.shape\n",
    "b.size"
   ]
  },
  {
   "cell_type": "code",
   "execution_count": 38,
   "metadata": {},
   "outputs": [
    {
     "data": {
      "text/plain": [
       "array([[1],\n",
       "       [2],\n",
       "       [3]])"
      ]
     },
     "execution_count": 38,
     "metadata": {},
     "output_type": "execute_result"
    },
    {
     "data": {
      "text/plain": [
       "2"
      ]
     },
     "execution_count": 38,
     "metadata": {},
     "output_type": "execute_result"
    },
    {
     "data": {
      "text/plain": [
       "(3, 1)"
      ]
     },
     "execution_count": 38,
     "metadata": {},
     "output_type": "execute_result"
    },
    {
     "data": {
      "text/plain": [
       "3"
      ]
     },
     "execution_count": 38,
     "metadata": {},
     "output_type": "execute_result"
    }
   ],
   "source": [
    "c = np.array([[1], [2], [3]])   # A column vector\n",
    "c\n",
    "c.ndim\n",
    "c.shape\n",
    "c.size"
   ]
  },
  {
   "cell_type": "code",
   "execution_count": 39,
   "metadata": {},
   "outputs": [
    {
     "data": {
      "text/plain": [
       "array([[1, 2, 3],\n",
       "       [4, 5, 6]])"
      ]
     },
     "execution_count": 39,
     "metadata": {},
     "output_type": "execute_result"
    },
    {
     "data": {
      "text/plain": [
       "2"
      ]
     },
     "execution_count": 39,
     "metadata": {},
     "output_type": "execute_result"
    },
    {
     "data": {
      "text/plain": [
       "(2, 3)"
      ]
     },
     "execution_count": 39,
     "metadata": {},
     "output_type": "execute_result"
    },
    {
     "data": {
      "text/plain": [
       "6"
      ]
     },
     "execution_count": 39,
     "metadata": {},
     "output_type": "execute_result"
    }
   ],
   "source": [
    "d = np.array([\n",
    "[1,2,3],\n",
    "[4,5,6]])   # A 2x3 matrix\n",
    "d\n",
    "d.ndim\n",
    "d.shape\n",
    "d.size"
   ]
  },
  {
   "cell_type": "code",
   "execution_count": 40,
   "metadata": {},
   "outputs": [
    {
     "data": {
      "text/plain": [
       "array([[[1, 2],\n",
       "        [3, 4]],\n",
       "\n",
       "       [[5, 6],\n",
       "        [7, 8]]])"
      ]
     },
     "execution_count": 40,
     "metadata": {},
     "output_type": "execute_result"
    },
    {
     "data": {
      "text/plain": [
       "3"
      ]
     },
     "execution_count": 40,
     "metadata": {},
     "output_type": "execute_result"
    },
    {
     "data": {
      "text/plain": [
       "(2, 2, 2)"
      ]
     },
     "execution_count": 40,
     "metadata": {},
     "output_type": "execute_result"
    },
    {
     "data": {
      "text/plain": [
       "8"
      ]
     },
     "execution_count": 40,
     "metadata": {},
     "output_type": "execute_result"
    }
   ],
   "source": [
    "e = np.array([[[1,2],[3,4]],[[5,6],[7,8]]])  # A 3-D array\n",
    "e\n",
    "e.ndim\n",
    "e.shape\n",
    "e.size"
   ]
  },
  {
   "cell_type": "code",
   "execution_count": 41,
   "metadata": {},
   "outputs": [
    {
     "name": "stdout",
     "output_type": "stream",
     "text": [
      "[[0. 0. 0. 0.]\n",
      " [0. 0. 0. 0.]\n",
      " [0. 0. 0. 0.]]\n"
     ]
    }
   ],
   "source": [
    "# Create a 3x4 array of zeros\n",
    "x = np.zeros((3,4))\n",
    "print(x)"
   ]
  },
  {
   "cell_type": "code",
   "execution_count": 42,
   "metadata": {},
   "outputs": [
    {
     "name": "stdout",
     "output_type": "stream",
     "text": [
      "[[1. 1. 1. 1.]\n",
      " [1. 1. 1. 1.]\n",
      " [1. 1. 1. 1.]]\n"
     ]
    }
   ],
   "source": [
    "# Create a 3x4 array of ones\n",
    "x = np.ones((3,4))\n",
    "print(x)"
   ]
  },
  {
   "cell_type": "code",
   "execution_count": 43,
   "metadata": {},
   "outputs": [
    {
     "name": "stdout",
     "output_type": "stream",
     "text": [
      "[[0.64352212 0.83596061 0.31463682 0.40767017]\n",
      " [0.89680913 0.546069   0.41451915 0.46944497]\n",
      " [0.25798654 0.01194038 0.5962134  0.43049454]]\n"
     ]
    }
   ],
   "source": [
    "# Create an array of the given shape and populate it \n",
    "# with random samples from a uniform distribution over [0, 1).\n",
    "\n",
    "x = np.random.rand(3,4)\n",
    "print(x)"
   ]
  },
  {
   "cell_type": "code",
   "execution_count": 44,
   "metadata": {},
   "outputs": [
    {
     "name": "stdout",
     "output_type": "stream",
     "text": [
      "[[-1.01549183  1.32026723 -0.22747186  1.51917605]\n",
      " [ 1.43585796 -1.32029682 -0.88531403 -0.87144079]\n",
      " [-1.04138542 -1.83249381 -0.24163374  0.52681591]]\n"
     ]
    }
   ],
   "source": [
    "# Create an array of the given shape and populate it \n",
    "# with random samples from \"standard normal\" distribution\n",
    "# (mean = 0, var = 1).\n",
    "\n",
    "x = np.random.randn(3,4)\n",
    "print(x)"
   ]
  },
  {
   "cell_type": "code",
   "execution_count": 45,
   "metadata": {},
   "outputs": [
    {
     "data": {
      "text/plain": [
       "array([[1, 2, 3],\n",
       "       [4, 5, 6]])"
      ]
     },
     "execution_count": 45,
     "metadata": {},
     "output_type": "execute_result"
    },
    {
     "data": {
      "text/plain": [
       "3"
      ]
     },
     "execution_count": 45,
     "metadata": {},
     "output_type": "execute_result"
    },
    {
     "data": {
      "text/plain": [
       "5"
      ]
     },
     "execution_count": 45,
     "metadata": {},
     "output_type": "execute_result"
    }
   ],
   "source": [
    "# We can get a specific element on an array by using indices\n",
    "d\n",
    "d[0,2]\n",
    "d[1,1]"
   ]
  },
  {
   "cell_type": "markdown",
   "metadata": {},
   "source": [
    "Matrix Math\n",
    "--"
   ]
  },
  {
   "cell_type": "code",
   "execution_count": 47,
   "metadata": {},
   "outputs": [
    {
     "name": "stdout",
     "output_type": "stream",
     "text": [
      "x+y = \n",
      " [[ 6  8]\n",
      " [10 12]] \n",
      "\n",
      "x-y = \n",
      " [[-4 -4]\n",
      " [-4 -4]] \n",
      "\n",
      "x*y = \n",
      " [[ 5 12]\n",
      " [21 32]] \n",
      "\n"
     ]
    }
   ],
   "source": [
    "x = np.array( [[1,2],[3,4]] )\n",
    "y = np.array( [[5,6],[7,8]] )\n",
    "# Elementwise sum\n",
    "z = x + y\n",
    "print (\"x+y = \\n\", z, \"\\n\")\n",
    "\n",
    "# Elementwise difference\n",
    "z = x - y\n",
    "print (\"x-y = \\n\", z, \"\\n\")\n",
    "\n",
    "# Elementwise product\n",
    "z = x * y\n",
    "print (\"x*y = \\n\", z, \"\\n\")"
   ]
  },
  {
   "cell_type": "code",
   "execution_count": 48,
   "metadata": {},
   "outputs": [
    {
     "name": "stdout",
     "output_type": "stream",
     "text": [
      "x.dot(y) = \n",
      " [[19 22]\n",
      " [43 50]] \n",
      "\n",
      "np.dot(x, y) = \n",
      " [[19 22]\n",
      " [43 50]] \n",
      "\n",
      "x @ y = \n",
      " [[19 22]\n",
      " [43 50]] \n",
      "\n"
     ]
    }
   ],
   "source": [
    "# Matrix dot product; \n",
    "# There are three different ways -- same result\n",
    "z = x.dot(y)\n",
    "print (\"x.dot(y) = \\n\", z, \"\\n\")\n",
    "\n",
    "z = np.dot(x, y)\n",
    "print (\"np.dot(x, y) = \\n\", z, \"\\n\")\n",
    "\n",
    "z = x @ y     # Only in Python 3\n",
    "print (\"x @ y = \\n\", z, \"\\n\")"
   ]
  },
  {
   "cell_type": "markdown",
   "metadata": {},
   "source": [
    "**Note:** \n",
    "* For dot product, the shapes of the two matrices must match. <br>\n",
    "In the example above we have (2x2) @ (2x2), which match, so it works.\n",
    "For another example we can have (2x3) @ (3x1), the 3s match. <br>\n",
    "but not (2x2) @ (3x2)  (This won't work.)\n",
    "* Dot product is not commutative. In general x @ y is not equal to y @ x\n",
    "* This can be applied to arrays of higher dimensions as well."
   ]
  },
  {
   "cell_type": "code",
   "execution_count": 50,
   "metadata": {},
   "outputs": [
    {
     "name": "stdout",
     "output_type": "stream",
     "text": [
      "x.T = \n",
      " [[1 3]\n",
      " [2 4]] \n",
      "\n"
     ]
    }
   ],
   "source": [
    "# Matrix transpose\n",
    "z = x.T\n",
    "print (\"x.T = \\n\", z, \"\\n\")"
   ]
  },
  {
   "cell_type": "code",
   "execution_count": 51,
   "metadata": {},
   "outputs": [
    {
     "name": "stdout",
     "output_type": "stream",
     "text": [
      "x*2 = \n",
      " [[2 4]\n",
      " [6 8]] \n",
      "\n"
     ]
    }
   ],
   "source": [
    "# Multiplying a matrix with a number\n",
    "z = x * 2\n",
    "print (\"x*2 = \\n\", z, \"\\n\")"
   ]
  },
  {
   "cell_type": "markdown",
   "metadata": {},
   "source": [
    "Reshaping Arrays\n",
    "--"
   ]
  },
  {
   "cell_type": "code",
   "execution_count": 52,
   "metadata": {},
   "outputs": [
    {
     "name": "stdout",
     "output_type": "stream",
     "text": [
      "x = \n",
      " [[ 0.48750824 -0.63422158  0.73464541 -0.46201682]\n",
      " [-0.94645081  0.28387444 -0.70994916  1.00226156]\n",
      " [ 0.46343723  1.11140198  0.27641839 -1.5246794 ]]\n",
      "z = \n",
      " [[ 0.48750824 -0.63422158  0.73464541]\n",
      " [-0.46201682 -0.94645081  0.28387444]\n",
      " [-0.70994916  1.00226156  0.46343723]\n",
      " [ 1.11140198  0.27641839 -1.5246794 ]]\n",
      "z2 = \n",
      " [[ 0.48750824 -0.63422158  0.73464541 -0.46201682 -0.94645081  0.28387444]\n",
      " [-0.70994916  1.00226156  0.46343723  1.11140198  0.27641839 -1.5246794 ]]\n"
     ]
    }
   ],
   "source": [
    "x = np.random.randn(3,4)\n",
    "print(\"x = \\n\",x)\n",
    "\n",
    "z = np.reshape(x, (4,3))\n",
    "print(\"z = \\n\", z)\n",
    "\n",
    "z2 = np.reshape(x, (2,6))\n",
    "print(\"z2 = \\n\", z2)"
   ]
  },
  {
   "cell_type": "code",
   "execution_count": 53,
   "metadata": {},
   "outputs": [
    {
     "name": "stdout",
     "output_type": "stream",
     "text": [
      "z = \n",
      " [[ 0.48750824]\n",
      " [-0.63422158]\n",
      " [ 0.73464541]\n",
      " [-0.46201682]\n",
      " [-0.94645081]\n",
      " [ 0.28387444]\n",
      " [-0.70994916]\n",
      " [ 1.00226156]\n",
      " [ 0.46343723]\n",
      " [ 1.11140198]\n",
      " [ 0.27641839]\n",
      " [-1.5246794 ]]\n"
     ]
    }
   ],
   "source": [
    "# We will often want to reshape 2D images to nx1 or 1xn arrays.\n",
    "\n",
    "z = np.reshape(x,(x.shape[0]*x.shape[1],1))\n",
    "# or\n",
    "#z = x.reshape((x.shape[0]*x.shape[1],1))\n",
    "\n",
    "print(\"z = \\n\", z)"
   ]
  },
  {
   "cell_type": "markdown",
   "metadata": {},
   "source": [
    "Array Slicing\n",
    "--\n",
    "Array slicing is similar to list slicing, but here we need to do slicing in each dimension."
   ]
  },
  {
   "cell_type": "code",
   "execution_count": 54,
   "metadata": {},
   "outputs": [
    {
     "name": "stdout",
     "output_type": "stream",
     "text": [
      "[[ 1  2  3  4]\n",
      " [ 5  6  7  8]\n",
      " [ 9 10 11 12]]\n",
      "[[2 3]\n",
      " [6 7]]\n"
     ]
    }
   ],
   "source": [
    "# Let's create an array\n",
    "a = np.array([[1,2,3,4], [5,6,7,8], [9,10,11,12]])\n",
    "print(a)\n",
    "# Slice in the 1st dimension from 0 to 2 (not including 2)\n",
    "# Slice in the 2nd dimension from 1 to 3 (not including 3)\n",
    "b = a[0:2, 1:3]\n",
    "\n",
    "print(b)"
   ]
  },
  {
   "cell_type": "code",
   "execution_count": 55,
   "metadata": {},
   "outputs": [
    {
     "name": "stdout",
     "output_type": "stream",
     "text": [
      "[[2 3]\n",
      " [6 7]]\n"
     ]
    }
   ],
   "source": [
    "# The previous example can also be written as follows.\n",
    "# We don't need to specify 0. \n",
    "b = a[:2, 1:3]\n",
    "\n",
    "print(b)"
   ]
  },
  {
   "cell_type": "code",
   "execution_count": 56,
   "metadata": {},
   "outputs": [
    {
     "name": "stdout",
     "output_type": "stream",
     "text": [
      "[[2 3 4]\n",
      " [6 7 8]]\n"
     ]
    }
   ],
   "source": [
    "# Here is another example\n",
    "b = a[:2, 1:4]\n",
    "\n",
    "print(b)"
   ]
  },
  {
   "cell_type": "code",
   "execution_count": 57,
   "metadata": {},
   "outputs": [
    {
     "name": "stdout",
     "output_type": "stream",
     "text": [
      "[[2 3 4]\n",
      " [6 7 8]]\n"
     ]
    }
   ],
   "source": [
    "# The previous example can also be written as follows.\n",
    "# We don't need to specify 4. \n",
    "b = a[:2, 1:]\n",
    "\n",
    "print(b)"
   ]
  },
  {
   "cell_type": "code",
   "execution_count": 58,
   "metadata": {},
   "outputs": [
    {
     "name": "stdout",
     "output_type": "stream",
     "text": [
      "a = \n",
      " [[ 1  2  3  4]\n",
      " [ 5  6  7  8]\n",
      " [ 9 10 11 12]]\n",
      "b = \n",
      " [[ 1  2  3]\n",
      " [ 5  6  7]\n",
      " [ 9 10 11]]\n"
     ]
    }
   ],
   "source": [
    "# Negative indexes are used to count backwards from the end of a range. \n",
    "# Suppose we want all the rows of an array, and all the columns, except the last column.\n",
    "\n",
    "# Let's recall a\n",
    "print(\"a = \\n\", a)\n",
    "\n",
    "# Now let's take the slice we want\n",
    "b = a[:, :-1]\n",
    "\n",
    "print(\"b = \\n\", b)"
   ]
  },
  {
   "cell_type": "markdown",
   "metadata": {},
   "source": [
    "Numpy Math Functions\n",
    "--"
   ]
  },
  {
   "cell_type": "code",
   "execution_count": 59,
   "metadata": {},
   "outputs": [
    {
     "name": "stdout",
     "output_type": "stream",
     "text": [
      "np.exp(a) = \n",
      " [[ 2.71828183  7.3890561  20.08553692 54.59815003]]\n",
      "np.log(a) = \n",
      " [[0.         0.69314718 1.09861229 1.38629436]]\n"
     ]
    }
   ],
   "source": [
    "# Let's create a 1x3 array\n",
    "a = np.array([[1,2,3,4]])\n",
    "\n",
    "# compute e^x for each number in the array\n",
    "print(\"np.exp(a) = \\n\", np.exp(a))\n",
    "\n",
    "# compute the log (base e) of each number in the array\n",
    "print(\"np.log(a) = \\n\", np.log(a))\n",
    "\n",
    "# See, numpy functions, such as exp and log, \n",
    "# take arrays as input and produce arrays as output. \n",
    "# They compute the function on each element of the input array."
   ]
  },
  {
   "cell_type": "markdown",
   "metadata": {},
   "source": [
    "**The Sigmoid Function**\n",
    "\n",
    "An important function in neural networks is the Sigmoid function, sometimes known as the logistic function\n",
    "$$\n",
    "sigmoid(x) = \\frac{1}{1+e^{-x}}.\n",
    "$$\n",
    "Let's implement it using numpy."
   ]
  },
  {
   "cell_type": "code",
   "execution_count": 60,
   "metadata": {},
   "outputs": [
    {
     "data": {
      "text/plain": [
       "array([[0.73105858, 0.88079708, 0.95257413, 0.98201379]])"
      ]
     },
     "execution_count": 60,
     "metadata": {},
     "output_type": "execute_result"
    }
   ],
   "source": [
    "def sigmoid(x):\n",
    "    return 1/(1+np.exp(-x))\n",
    "\n",
    "sigmoid(a)"
   ]
  },
  {
   "cell_type": "markdown",
   "metadata": {},
   "source": [
    "**Axis and keepdims**\n",
    "\n",
    "Some numpy functions, such as sum, avg, min, max, etc, take as input an array and return a number, e.g. the sum, average, min, max of the elements of the array. What if we want the sum, average, min, max of each row or each column? For this we use *axis* and *keepdims*. See examples below."
   ]
  },
  {
   "cell_type": "code",
   "execution_count": 61,
   "metadata": {},
   "outputs": [
    {
     "data": {
      "text/plain": [
       "array([[ 1,  2,  3,  4],\n",
       "       [ 5,  6,  7,  8],\n",
       "       [ 9, 10, 11, 12]])"
      ]
     },
     "execution_count": 61,
     "metadata": {},
     "output_type": "execute_result"
    },
    {
     "data": {
      "text/plain": [
       "78"
      ]
     },
     "execution_count": 61,
     "metadata": {},
     "output_type": "execute_result"
    },
    {
     "data": {
      "text/plain": [
       "array([15, 18, 21, 24])"
      ]
     },
     "execution_count": 61,
     "metadata": {},
     "output_type": "execute_result"
    },
    {
     "data": {
      "text/plain": [
       "array([10, 26, 42])"
      ]
     },
     "execution_count": 61,
     "metadata": {},
     "output_type": "execute_result"
    },
    {
     "data": {
      "text/plain": [
       "array([[78]])"
      ]
     },
     "execution_count": 61,
     "metadata": {},
     "output_type": "execute_result"
    },
    {
     "data": {
      "text/plain": [
       "array([[15, 18, 21, 24]])"
      ]
     },
     "execution_count": 61,
     "metadata": {},
     "output_type": "execute_result"
    },
    {
     "data": {
      "text/plain": [
       "array([[10],\n",
       "       [26],\n",
       "       [42]])"
      ]
     },
     "execution_count": 61,
     "metadata": {},
     "output_type": "execute_result"
    }
   ],
   "source": [
    "# Let's create an array\n",
    "a = np.array([[1,2,3,4], [5,6,7,8], [9,10,11,12]])\n",
    "\n",
    "a\n",
    "\n",
    "# Sum of all elements in the array\n",
    "np.sum(a)\n",
    "\n",
    "# Sum of elements in each column\n",
    "np.sum(a, axis=0)\n",
    "\n",
    "# Sum of elements in each row\n",
    "np.sum(a, axis=1)\n",
    "\n",
    "# The problem with the above is that the result is not a 2D array. \n",
    "# If we need the result to be a 2D array, specify keepdims=True.\n",
    "\n",
    "np.sum(a, keepdims=True)\n",
    "\n",
    "np.sum(a, axis=0, keepdims=True)\n",
    "\n",
    "np.sum(a, axis=1, keepdims=True)"
   ]
  },
  {
   "cell_type": "markdown",
   "metadata": {},
   "source": [
    "Broadcasting\n",
    "--\n",
    "We can perform operations with arrays of different shapes. For example suppose we have an array \n",
    "$$\n",
    "a = \\begin{bmatrix}\n",
    "    1 & 2 & 3 & 4  \\\\\n",
    "    5 & 6 & 7 & 8 \\\\\n",
    "    9 & 10 & 11 & 12 \n",
    "\\end{bmatrix}\n",
    "$$\n",
    "and would like to multiply it with \n",
    "$$\n",
    "b = \\begin{bmatrix}\n",
    "    1 \\\\\n",
    "    5 \\\\\n",
    "    9  \n",
    "\\end{bmatrix}\n",
    "$$\n",
    "If we say $a*b$, array $b$ will be first expanded (broadcast) to \n",
    "\\begin{bmatrix}\n",
    "    1 & 1 & 1 & 1\\\\\n",
    "    5 & 5 & 5 & 5\\\\\n",
    "    9 & 9 & 9 & 9 \n",
    "\\end{bmatrix}\n",
    "then element-wise multiplication will be performed. "
   ]
  },
  {
   "cell_type": "code",
   "execution_count": 62,
   "metadata": {},
   "outputs": [
    {
     "data": {
      "text/plain": [
       "array([[ 1,  2,  3,  4],\n",
       "       [ 5,  6,  7,  8],\n",
       "       [ 9, 10, 11, 12]])"
      ]
     },
     "execution_count": 62,
     "metadata": {},
     "output_type": "execute_result"
    },
    {
     "data": {
      "text/plain": [
       "array([[1],\n",
       "       [5],\n",
       "       [9]])"
      ]
     },
     "execution_count": 62,
     "metadata": {},
     "output_type": "execute_result"
    },
    {
     "data": {
      "text/plain": [
       "array([[  1,   2,   3,   4],\n",
       "       [ 25,  30,  35,  40],\n",
       "       [ 81,  90,  99, 108]])"
      ]
     },
     "execution_count": 62,
     "metadata": {},
     "output_type": "execute_result"
    },
    {
     "data": {
      "text/plain": [
       "array([[ 2,  3,  4,  5],\n",
       "       [10, 11, 12, 13],\n",
       "       [18, 19, 20, 21]])"
      ]
     },
     "execution_count": 62,
     "metadata": {},
     "output_type": "execute_result"
    }
   ],
   "source": [
    "a\n",
    "\n",
    "b = np.array([[1],[5],[9]])\n",
    "\n",
    "b\n",
    "\n",
    "a*b\n",
    "\n",
    "a+b"
   ]
  },
  {
   "cell_type": "code",
   "execution_count": 63,
   "metadata": {},
   "outputs": [
    {
     "data": {
      "text/plain": [
       "array([ 0.        ,  0.25641026,  0.51282051,  0.76923077,  1.02564103,\n",
       "        1.28205128,  1.53846154,  1.79487179,  2.05128205,  2.30769231,\n",
       "        2.56410256,  2.82051282,  3.07692308,  3.33333333,  3.58974359,\n",
       "        3.84615385,  4.1025641 ,  4.35897436,  4.61538462,  4.87179487,\n",
       "        5.12820513,  5.38461538,  5.64102564,  5.8974359 ,  6.15384615,\n",
       "        6.41025641,  6.66666667,  6.92307692,  7.17948718,  7.43589744,\n",
       "        7.69230769,  7.94871795,  8.20512821,  8.46153846,  8.71794872,\n",
       "        8.97435897,  9.23076923,  9.48717949,  9.74358974, 10.        ])"
      ]
     },
     "execution_count": 63,
     "metadata": {},
     "output_type": "execute_result"
    }
   ],
   "source": [
    "x = np.linspace(0, 10, 40)\n",
    "\n",
    "x"
   ]
  },
  {
   "cell_type": "markdown",
   "metadata": {},
   "source": [
    "## Some simple plotting examples"
   ]
  },
  {
   "cell_type": "code",
   "execution_count": 65,
   "metadata": {},
   "outputs": [
    {
     "ename": "ModuleNotFoundError",
     "evalue": "No module named 'matplotlib'",
     "output_type": "error",
     "traceback": [
      "\u001b[0;31m---------------------------------------------------------------------------\u001b[0m",
      "\u001b[0;31mModuleNotFoundError\u001b[0m                       Traceback (most recent call last)",
      "\u001b[0;32m<ipython-input-65-3595ac7b9baa>\u001b[0m in \u001b[0;36m<module>\u001b[0;34m\u001b[0m\n\u001b[0;32m----> 1\u001b[0;31m \u001b[0;32mimport\u001b[0m \u001b[0mmatplotlib\u001b[0m\u001b[0;34m.\u001b[0m\u001b[0mpyplot\u001b[0m \u001b[0;32mas\u001b[0m \u001b[0mplt\u001b[0m\u001b[0;34m\u001b[0m\u001b[0;34m\u001b[0m\u001b[0m\n\u001b[0m\u001b[1;32m      2\u001b[0m \u001b[0mget_ipython\u001b[0m\u001b[0;34m(\u001b[0m\u001b[0;34m)\u001b[0m\u001b[0;34m.\u001b[0m\u001b[0mrun_line_magic\u001b[0m\u001b[0;34m(\u001b[0m\u001b[0;34m'matplotlib'\u001b[0m\u001b[0;34m,\u001b[0m \u001b[0;34m'inline'\u001b[0m\u001b[0;34m)\u001b[0m\u001b[0;34m\u001b[0m\u001b[0;34m\u001b[0m\u001b[0m\n\u001b[1;32m      3\u001b[0m \u001b[0msinx\u001b[0m \u001b[0;34m=\u001b[0m \u001b[0mnp\u001b[0m\u001b[0;34m.\u001b[0m\u001b[0msin\u001b[0m\u001b[0;34m(\u001b[0m\u001b[0mx\u001b[0m\u001b[0;34m)\u001b[0m\u001b[0;34m\u001b[0m\u001b[0;34m\u001b[0m\u001b[0m\n\u001b[1;32m      4\u001b[0m \u001b[0mplt\u001b[0m\u001b[0;34m.\u001b[0m\u001b[0mplot\u001b[0m\u001b[0;34m(\u001b[0m\u001b[0mx\u001b[0m\u001b[0;34m,\u001b[0m \u001b[0msinx\u001b[0m\u001b[0;34m)\u001b[0m\u001b[0;34m\u001b[0m\u001b[0;34m\u001b[0m\u001b[0m\n",
      "\u001b[0;31mModuleNotFoundError\u001b[0m: No module named 'matplotlib'"
     ]
    }
   ],
   "source": [
    "import matplotlib.pyplot as plt\n",
    "%matplotlib inline\n",
    "sinx = np.sin(x)\n",
    "plt.plot(x, sinx)\n"
   ]
  },
  {
   "cell_type": "code",
   "execution_count": 66,
   "metadata": {},
   "outputs": [
    {
     "data": {
      "text/plain": [
       "array([[ 0.        ,  0.25641026,  0.51282051,  0.76923077,  1.02564103,\n",
       "         1.28205128,  1.53846154,  1.79487179,  2.05128205,  2.30769231],\n",
       "       [ 2.56410256,  2.82051282,  3.07692308,  3.33333333,  3.58974359,\n",
       "         3.84615385,  4.1025641 ,  4.35897436,  4.61538462,  4.87179487],\n",
       "       [ 5.12820513,  5.38461538,  5.64102564,  5.8974359 ,  6.15384615,\n",
       "         6.41025641,  6.66666667,  6.92307692,  7.17948718,  7.43589744],\n",
       "       [ 7.69230769,  7.94871795,  8.20512821,  8.46153846,  8.71794872,\n",
       "         8.97435897,  9.23076923,  9.48717949,  9.74358974, 10.        ]])"
      ]
     },
     "execution_count": 66,
     "metadata": {},
     "output_type": "execute_result"
    },
    {
     "ename": "NameError",
     "evalue": "name 'plt' is not defined",
     "output_type": "error",
     "traceback": [
      "\u001b[0;31m---------------------------------------------------------------------------\u001b[0m",
      "\u001b[0;31mNameError\u001b[0m                                 Traceback (most recent call last)",
      "\u001b[0;32m<ipython-input-66-84477a8e2822>\u001b[0m in \u001b[0;36m<module>\u001b[0;34m\u001b[0m\n\u001b[1;32m      1\u001b[0m \u001b[0mx\u001b[0m\u001b[0;34m.\u001b[0m\u001b[0mreshape\u001b[0m\u001b[0;34m(\u001b[0m\u001b[0;36m4\u001b[0m\u001b[0;34m,\u001b[0m \u001b[0;36m10\u001b[0m\u001b[0;34m)\u001b[0m\u001b[0;34m\u001b[0m\u001b[0;34m\u001b[0m\u001b[0m\n\u001b[1;32m      2\u001b[0m \u001b[0mcosx\u001b[0m \u001b[0;34m=\u001b[0m \u001b[0mnp\u001b[0m\u001b[0;34m.\u001b[0m\u001b[0mcos\u001b[0m\u001b[0;34m(\u001b[0m\u001b[0mx\u001b[0m\u001b[0;34m)\u001b[0m\u001b[0;34m\u001b[0m\u001b[0;34m\u001b[0m\u001b[0m\n\u001b[0;32m----> 3\u001b[0;31m \u001b[0mplt\u001b[0m\u001b[0;34m.\u001b[0m\u001b[0mplot\u001b[0m\u001b[0;34m(\u001b[0m\u001b[0mx\u001b[0m\u001b[0;34m,\u001b[0m \u001b[0msinx\u001b[0m\u001b[0;34m,\u001b[0m \u001b[0;34m'o'\u001b[0m\u001b[0;34m)\u001b[0m\u001b[0;34m\u001b[0m\u001b[0;34m\u001b[0m\u001b[0m\n\u001b[0m\u001b[1;32m      4\u001b[0m \u001b[0mplt\u001b[0m\u001b[0;34m.\u001b[0m\u001b[0mplot\u001b[0m\u001b[0;34m(\u001b[0m\u001b[0mx\u001b[0m\u001b[0;34m,\u001b[0m \u001b[0mcosx\u001b[0m\u001b[0;34m,\u001b[0m \u001b[0;34m'x'\u001b[0m\u001b[0;34m)\u001b[0m\u001b[0;34m\u001b[0m\u001b[0;34m\u001b[0m\u001b[0m\n",
      "\u001b[0;31mNameError\u001b[0m: name 'plt' is not defined"
     ]
    }
   ],
   "source": [
    "x.reshape(4, 10)\n",
    "cosx = np.cos(x)\n",
    "plt.plot(x, sinx, 'o')\n",
    "plt.plot(x, cosx, 'x')\n"
   ]
  },
  {
   "cell_type": "code",
   "execution_count": 67,
   "metadata": {},
   "outputs": [
    {
     "ename": "NameError",
     "evalue": "name 'sinx' is not defined",
     "output_type": "error",
     "traceback": [
      "\u001b[0;31m---------------------------------------------------------------------------\u001b[0m",
      "\u001b[0;31mNameError\u001b[0m                                 Traceback (most recent call last)",
      "\u001b[0;32m<ipython-input-67-853d692d8427>\u001b[0m in \u001b[0;36m<module>\u001b[0;34m\u001b[0m\n\u001b[0;32m----> 1\u001b[0;31m \u001b[0my\u001b[0m \u001b[0;34m=\u001b[0m \u001b[0msinx\u001b[0m \u001b[0;34m*\u001b[0m \u001b[0mcosx\u001b[0m\u001b[0;34m\u001b[0m\u001b[0;34m\u001b[0m\u001b[0m\n\u001b[0m\u001b[1;32m      2\u001b[0m \u001b[0mz\u001b[0m \u001b[0;34m=\u001b[0m \u001b[0mcosx\u001b[0m \u001b[0;34m**\u001b[0m \u001b[0;36m2\u001b[0m \u001b[0;34m-\u001b[0m \u001b[0msinx\u001b[0m \u001b[0;34m**\u001b[0m \u001b[0;36m2\u001b[0m\u001b[0;34m\u001b[0m\u001b[0;34m\u001b[0m\u001b[0m\n\u001b[1;32m      3\u001b[0m \u001b[0mplt\u001b[0m\u001b[0;34m.\u001b[0m\u001b[0mplot\u001b[0m\u001b[0;34m(\u001b[0m\u001b[0mx\u001b[0m\u001b[0;34m,\u001b[0m \u001b[0my\u001b[0m\u001b[0;34m)\u001b[0m\u001b[0;34m\u001b[0m\u001b[0;34m\u001b[0m\u001b[0m\n\u001b[1;32m      4\u001b[0m \u001b[0mplt\u001b[0m\u001b[0;34m.\u001b[0m\u001b[0mplot\u001b[0m\u001b[0;34m(\u001b[0m\u001b[0mx\u001b[0m\u001b[0;34m,\u001b[0m \u001b[0mz\u001b[0m\u001b[0;34m)\u001b[0m\u001b[0;34m\u001b[0m\u001b[0;34m\u001b[0m\u001b[0m\n\u001b[1;32m      5\u001b[0m \u001b[0mplt\u001b[0m\u001b[0;34m.\u001b[0m\u001b[0mlegend\u001b[0m\u001b[0;34m(\u001b[0m\u001b[0;34m[\u001b[0m\u001b[0;34m'sin(x) cos(x)'\u001b[0m\u001b[0;34m,\u001b[0m \u001b[0;34m'cos(x)^2 - sin(x)^2'\u001b[0m\u001b[0;34m]\u001b[0m\u001b[0;34m)\u001b[0m\u001b[0;34m\u001b[0m\u001b[0;34m\u001b[0m\u001b[0m\n",
      "\u001b[0;31mNameError\u001b[0m: name 'sinx' is not defined"
     ]
    }
   ],
   "source": [
    "y = sinx * cosx\n",
    "z = cosx ** 2 - sinx ** 2\n",
    "plt.plot(x, y)\n",
    "plt.plot(x, z)\n",
    "plt.legend(['sin(x) cos(x)', 'cos(x)^2 - sin(x)^2'])\n",
    "# http://matplotlib.org/users/legend_guide.html\n"
   ]
  },
  {
   "cell_type": "code",
   "execution_count": 68,
   "metadata": {},
   "outputs": [
    {
     "data": {
      "text/plain": [
       "array([[ 1,  2,  3,  4],\n",
       "       [ 5,  6,  7,  8],\n",
       "       [ 9, 10, 11, 12]])"
      ]
     },
     "execution_count": 68,
     "metadata": {},
     "output_type": "execute_result"
    }
   ],
   "source": [
    "np.save('array.npy', a)\n",
    "loaded_array = np.load('array.npy')\n",
    "loaded_array\n"
   ]
  },
  {
   "cell_type": "code",
   "execution_count": null,
   "metadata": {},
   "outputs": [],
   "source": []
  }
 ],
 "metadata": {
  "kernelspec": {
   "display_name": "Python 3",
   "language": "python",
   "name": "python3"
  },
  "language_info": {
   "codemirror_mode": {
    "name": "ipython",
    "version": 3
   },
   "file_extension": ".py",
   "mimetype": "text/x-python",
   "name": "python",
   "nbconvert_exporter": "python",
   "pygments_lexer": "ipython3",
   "version": "3.7.3"
  }
 },
 "nbformat": 4,
 "nbformat_minor": 4
}
