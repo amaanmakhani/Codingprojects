{
 "cells": [
  {
   "cell_type": "markdown",
   "metadata": {},
   "source": [
    "# MLE and MAP estimation\n",
    "Data Mining Lab, UVic Summer 2020  <br>\n"
   ]
  },
  {
   "cell_type": "code",
   "execution_count": 1,
   "metadata": {},
   "outputs": [],
   "source": [
    "import numpy as np\n",
    "import matplotlib.pyplot as plt\n",
    "import math"
   ]
  },
  {
   "cell_type": "markdown",
   "metadata": {},
   "source": [
    "## Bernoulli distribution\n",
    "Suppose we flip a coin $n$ times and count the number of heads, $\\alpha_H$, and the number of tails, $\\alpha_T$. Note that $\\alpha_H + \\alpha_T = n$. Let $\\theta$ be the probability of the coin in a single flip to give head, assumed to be constant during our experiment. The probability of observing $\\alpha_H$ heads and $\\alpha_T$ tails, given $\\theta$, is\n",
    "\n",
    "$$P\\left( D = (\\alpha_H, \\alpha_T) | \\theta \\right) = \\theta^{\\alpha_H} (1-\\theta)^{\\alpha_T}$$\n",
    "\n",
    "Now, in our experiment we only observe $\\alpha_H$ and $\\alpha_T$, but we do not observe $\\theta$. We can estimate the value of $\\theta$ from the result of our observation.\n",
    "\n",
    "__MLE:__\n",
    "$$\\hat{\\theta}_{\\rm MLE} = \\frac{\\alpha_H}{\\alpha_H + \\alpha_T}$$\n",
    "\n",
    "Suppose we have an information that tells us that the value of $\\theta$ is, say, $\\theta_{\\rm PRIOR}$. We can combine this prior knowledge with our observation to get estimate. \n",
    "\n",
    "__MAP estimate:__\n",
    "$$\\hat{\\theta}_{\\rm MAP} = \\frac{(\\alpha_H + \\gamma_H)}{(\\alpha_H + \\gamma_H) + (\\alpha_T + \\gamma_T)}$$\n",
    "\n",
    "Here $\\gamma_H$ and $\\gamma_T$ are values that we chose such that $\\gamma_H / (\\gamma_H + \\gamma_T) = \\alpha_{\\rm PRIOR}$. Their values depend on how much our confidence is on the prior knowledge. The more our confidence is, the larger $\\gamma_H$ and $\\gamma_T$ are. For example, suppose $\\theta_{\\rm PRIOR} = 0.6$. We can choose $\\gamma_H = 6$ and $\\gamma_T = 4$ (low confidence), or $\\gamma_H = 60$ and $\\gamma_T = 40$ (higher confidence)."
   ]
  },
  {
   "cell_type": "code",
   "execution_count": 3,
   "metadata": {},
   "outputs": [],
   "source": [
    "# for a single coin flip:\n",
    "def coin_flip(p):\n",
    "    r = np.random.rand()  # generate a random number in [0,1)\n",
    "    if r < p :   # head\n",
    "        return 1\n",
    "    else :       # tail\n",
    "        return 0"
   ]
  },
  {
   "cell_type": "code",
   "execution_count": 4,
   "metadata": {},
   "outputs": [],
   "source": [
    "# set the constants\n",
    "N = 250       # max number of flips\n",
    "theta = 0.5  # the real value of theta\n",
    "\n",
    "# Lists to record the observation/estimates\n",
    "MLE = []\n",
    "# initiate counters\n",
    "a_H = 0\n",
    "a_T = 0\n",
    "for j in range(N):\n",
    "    a_H = a_H + coin_flip(theta)\n",
    "    a_T = (j+1) - a_H    # (j+1) is the number of flips in that iteration \n",
    "    mle = a_H/(a_H + a_T)\n",
    "    HList.append(a_H)\n",
    "    MLE.append(mle)\n",
    "    \n",
    "\n",
    "# for checking:\n",
    "#print(HList)  # This should be monotonous\n",
    "#print(MLE)\n",
    "#print(MAP)"
   ]
  },
  {
   "cell_type": "code",
   "execution_count": 11,
   "metadata": {},
   "outputs": [],
   "source": [
    "# set the constants\n",
    "N = 250       # max number of flips\n",
    "theta = 0.5  # the real value of theta\n",
    "g_H = 6     # assuming theta_PRIOR = 0.6\n",
    "g_T = 4\n",
    "HList = []    # for checking\n",
    "MAP = []\n",
    "# initiate counters\n",
    "a_H = 0\n",
    "a_T = 0\n",
    "for j in range(N):\n",
    "    a_H = a_H + coin_flip(theta)\n",
    "    a_T = (j+1) - a_H    # (j+1) is the number of flips in that iteration \n",
    "    mape = (a_H + g_H)/((a_H + g_H) + (a_T + g_T))\n",
    "    HList.append(a_H)\n",
    "    MAP.append(mape)\n"
   ]
  },
  {
   "cell_type": "code",
   "execution_count": 12,
   "metadata": {},
   "outputs": [],
   "source": [
    "# Set the x (number of flips):\n",
    "x = np.arange(1, N+1)\n",
    "# The real theta line, for reference:\n",
    "RLine = (theta, theta)\n",
    "xx = (0, N+1)"
   ]
  },
  {
   "cell_type": "code",
   "execution_count": 13,
   "metadata": {},
   "outputs": [
    {
     "data": {
      "image/png": "[encoded data removed]",
      "text/plain": [
       "<Figure size 432x288 with 1 Axes>"
      ]
     },
     "metadata": {
      "needs_background": "light"
     },
     "output_type": "display_data"
    }
   ],
   "source": [
    "# b = Blue, g = Green, m = Magenta\n",
    "plt.plot(x,MLE, color=\"b\")\n",
    "plt.plot(x,MAP, color=\"g\")\n",
    "plt.plot(xx, RLine, color=\"m\")\n",
    "plt.show()"
   ]
  },
  {
   "cell_type": "markdown",
   "metadata": {},
   "source": [
    "The plot above is similar to the ones in the reading (Mitchell), Figure 1. Note that due to the random nature of the experiment we will not get the exact same result if we repeat the experiment. Sometimes, the estimates might not even seem to converge to the reference line.  \n",
    "\n",
    "Try also with different values of g_H and g_T."
   ]
  },
  {
   "cell_type": "markdown",
   "metadata": {},
   "source": [
    "Next, we are going to do an experiment of $N_T$ trials. In the first trial we flip the coin once. In the second trial, we start over again and flip the coin twice. In the third, three times. And so on. This is to make sure that the result of the $k^{\\rm th}$ trial is independent of the result of the $(k-1)^{\\rm th}$ trial (unlike the one above). "
   ]
  },
  {
   "cell_type": "code",
   "execution_count": 14,
   "metadata": {},
   "outputs": [],
   "source": [
    "# set the constants\n",
    "N_T = 200       # number of trials\n",
    "theta = 0.5  # the real value of theta\n",
    "g_H = 6\n",
    "g_T = 4\n",
    "# Lists to record the observation/estimates\n",
    "HList = []    # for checking\n",
    "MLE = []\n",
    "MAP = []\n",
    "for j in range(N_T):\n",
    "    # initiate/reset counters\n",
    "    a_H = 0\n",
    "    a_T = 0\n",
    "    for k in range(j):\n",
    "        a_H = a_H + coin_flip(theta)\n",
    "    a_T = (j+1) - a_H    # (j+1) is the number of flips in that iteration \n",
    "    mle = a_H/(a_H + a_T)\n",
    "    mape = (a_H + g_H)/((a_H + g_H) + (a_T + g_T))\n",
    "    HList.append(a_H)\n",
    "    MLE.append(mle)\n",
    "    MAP.append(mape)\n",
    "\n",
    "# for checking:\n",
    "#print(HList)  # Since each trial is independent, this does not need to be monotonous\n",
    "#print(MLE)\n",
    "#print(MAP)"
   ]
  },
  {
   "cell_type": "code",
   "execution_count": 15,
   "metadata": {},
   "outputs": [],
   "source": [
    "# Set the x (number of flips):\n",
    "x = np.arange(1, N_T+1)\n",
    "# The real theta line, for reference:\n",
    "RLine = (theta, theta)\n",
    "xx = (0, N_T+1)"
   ]
  },
  {
   "cell_type": "code",
   "execution_count": 16,
   "metadata": {},
   "outputs": [
    {
     "data": {
      "image/png": "[encoded data removed]",
      "text/plain": [
       "<Figure size 432x288 with 1 Axes>"
      ]
     },
     "metadata": {
      "needs_background": "light"
     },
     "output_type": "display_data"
    }
   ],
   "source": [
    "plt.plot(x,MLE)\n",
    "plt.plot(x,MAP)\n",
    "plt.plot(xx, RLine)\n",
    "plt.show()"
   ]
  },
  {
   "cell_type": "markdown",
   "metadata": {},
   "source": [
    "## Univariate Normal Distribution:\n",
    "The probability of getting $x$ drawn from a normal distribution $N(\\mu, \\sigma^2)$ is\n",
    "\n",
    "$$f(x) = \\frac{1}{\\sigma \\sqrt{2\\pi}} e^{-\\frac{1}{2} \\left( \\frac{x - \\mu}{\\sigma} \\right)^2} $$\n",
    "\n",
    "where $\\mu$ is the mean, and $\\sigma$ is the standard deviation.\n",
    "\n",
    "Here, for simplicity let us assume that the real standard deviation, $\\sigma$, is known. So we only need to estimate $\\mu$. \n",
    "\n",
    "__MLE:__ \n",
    "$$\\hat{\\mu}_{\\rm MLE} = \\frac{1}{n} \\sum_{j=1}^n x_j,$$\n",
    "and \n",
    "\\begin{equation}\n",
    "\\hat{\\sigma}_{MLE} = \\sqrt{\\frac{1}{n}\\sum_{i}^{n}(x_i - \\mu)^2}\n",
    "\\end{equation}\n",
    "but, we can use $\\hat{\\mu}_{MLE}$ instead of $\\mu$. \n",
    "\n",
    "With prior $N(\\mu_0, \\sigma_m^2)$, <br>\n",
    "__MAP estimate:__  \n",
    "$$\\hat{\\mu}_{\\rm MAP} = \\frac{\\sigma_m^2 \\left(\\sum_{j=1}^n x_j \\right) + \\sigma^2 \\mu_0}{\\sigma_m^2 n + \\sigma^2}$$\n",
    "\n"
   ]
  },
  {
   "cell_type": "code",
   "execution_count": 26,
   "metadata": {},
   "outputs": [],
   "source": [
    "# set the constants\n",
    "N = 250       # max number of draws\n",
    "mu = 0.0      # the real value of mu\n",
    "sigma = 1.0   # the real value of sigma\n",
    "mu_0 = 1.0       # the prior mu\n",
    "sigma_m = 2.0    # the prior sigma\n",
    "# Lists to record the observation/estimates\n",
    "MLE = []\n",
    "MAP = []\n",
    "MLE_sigma = []\n",
    "# initiate the sum\n",
    "sum_x = 0\n",
    "list_x = []\n",
    "for j in range(N):\n",
    "    x = np.random.normal(mu, sigma)  # Note that we input sigma, not sigma^2 (see the API)\n",
    "    list_x.append(x)\n",
    "    sum_x = sum_x + x\n",
    "    n = j+1\n",
    "    mle = sum_x/n\n",
    "    squared_sum = 0\n",
    "    for x in list_x:\n",
    "        squared_sum += (x - mle)**2\n",
    "    mle_sigma = math.sqrt((1/(j+1))*squared_sum)\n",
    "    MLE.append(mle)\n",
    "    MLE_sigma.append(mle_sigma)\n",
    "    \n",
    "# for checking:\n",
    "#print(MLE)\n",
    "#print(MAP)"
   ]
  },
  {
   "cell_type": "code",
   "execution_count": 27,
   "metadata": {},
   "outputs": [],
   "source": [
    "# set the constants\n",
    "N = 250       # max number of draws\n",
    "mu = 0.0      # the real value of mu\n",
    "sigma = 1.0   # the real value of sigma\n",
    "mu_0 = 1.0       # the prior mu\n",
    "sigma_m = 2.0    # the prior sigma\n",
    "# Lists to record the observation/estimates\n",
    "MAP = []\n",
    "for j in range(N):\n",
    "    x = np.random.normal(mu, sigma)  # Note that we input sigma, not sigma^2 (see the API)\n",
    "    list_x.append(x)\n",
    "    sum_x = sum_x + x\n",
    "    n = j+1\n",
    "    mape = (sigma_m*sigma_m*sum_x + sigma*sigma*mu_0)/(sigma_m*sigma_m*n + sigma*sigma)\n",
    "    MAP.append(mape)\n"
   ]
  },
  {
   "cell_type": "code",
   "execution_count": 28,
   "metadata": {},
   "outputs": [],
   "source": [
    "# Set the x (number of flips):\n",
    "x = np.arange(1, N+1)\n",
    "# The real theta line, for reference:\n",
    "RLine = (mu, mu)\n",
    "xx = (0, N+1)"
   ]
  },
  {
   "cell_type": "code",
   "execution_count": 29,
   "metadata": {},
   "outputs": [
    {
     "data": {
      "image/png": "[encoded data removed]",
      "text/plain": [
       "<Figure size 432x288 with 1 Axes>"
      ]
     },
     "metadata": {
      "needs_background": "light"
     },
     "output_type": "display_data"
    }
   ],
   "source": [
    "plt.plot(x,MLE, color=\"b\")\n",
    "plt.plot(x,MAP, color=\"g\")\n",
    "plt.plot(xx, RLine)\n",
    "plt.show()"
   ]
  },
  {
   "cell_type": "code",
   "execution_count": 30,
   "metadata": {},
   "outputs": [
    {
     "data": {
      "image/png": "[encoded data removed]",
      "text/plain": [
       "<Figure size 432x288 with 1 Axes>"
      ]
     },
     "metadata": {
      "needs_background": "light"
     },
     "output_type": "display_data"
    }
   ],
   "source": [
    "plt.plot(x, MLE_sigma)\n",
    "plt.plot(xx, (sigma, sigma))\n",
    "plt.show()"
   ]
  },
  {
   "cell_type": "markdown",
   "metadata": {},
   "source": [
    "# Logistic Regression"
   ]
  },
  {
   "cell_type": "code",
   "execution_count": 32,
   "metadata": {},
   "outputs": [],
   "source": [
    "import numpy as np\n",
    "import matplotlib.pyplot as plt\n",
    "%matplotlib inline  \n",
    "# without above line matplotlib will not work in notebook\n",
    "from sklearn import datasets\n",
    "from sklearn.linear_model import LogisticRegression\n",
    "from sklearn.model_selection import train_test_split\n",
    "from sklearn import metrics"
   ]
  },
  {
   "cell_type": "code",
   "execution_count": 33,
   "metadata": {},
   "outputs": [
    {
     "name": "stdout",
     "output_type": "stream",
     "text": [
      "(100, 4)\n",
      "(50, 4)\n"
     ]
    }
   ],
   "source": [
    "iris = datasets.load_iris()\n",
    "X = iris.data\n",
    "y = iris.target\n",
    "\n",
    "X_train, X_test, y_train, y_test = train_test_split(X, y, test_size=0.33, random_state=42)\n",
    "print(X_train.shape)\n",
    "print(X_test.shape)"
   ]
  },
  {
   "cell_type": "code",
   "execution_count": 34,
   "metadata": {},
   "outputs": [
    {
     "name": "stderr",
     "output_type": "stream",
     "text": [
      "C:\\Users\\Hamid\\anaconda3\\lib\\site-packages\\sklearn\\linear_model\\_logistic.py:940: ConvergenceWarning: lbfgs failed to converge (status=1):\n",
      "STOP: TOTAL NO. of ITERATIONS REACHED LIMIT.\n",
      "\n",
      "Increase the number of iterations (max_iter) or scale the data as shown in:\n",
      "    https://scikit-learn.org/stable/modules/preprocessing.html\n",
      "Please also refer to the documentation for alternative solver options:\n",
      "    https://scikit-learn.org/stable/modules/linear_model.html#logistic-regression\n",
      "  extra_warning_msg=_LOGISTIC_SOLVER_CONVERGENCE_MSG)\n"
     ]
    }
   ],
   "source": [
    "model = LogisticRegression(C=1e5, multi_class=\"multinomial\", solver=\"lbfgs\", penalty=\"l2\")\n",
    "# remember that small value of C implies stronger regularization\n",
    "model.fit(X_train, y_train)\n",
    "predictions = model.predict(X_test) "
   ]
  },
  {
   "cell_type": "code",
   "execution_count": 36,
   "metadata": {},
   "outputs": [
    {
     "name": "stdout",
     "output_type": "stream",
     "text": [
      "0.98\n",
      "[[19  0  0]\n",
      " [ 0 15  0]\n",
      " [ 0  1 15]]\n"
     ]
    }
   ],
   "source": [
    "print(metrics.accuracy_score(y_test, predictions))\n",
    "print(metrics.confusion_matrix(y_test, predictions))"
   ]
  },
  {
   "cell_type": "code",
   "execution_count": 37,
   "metadata": {},
   "outputs": [
    {
     "name": "stdout",
     "output_type": "stream",
     "text": [
      "(60, 2)\n",
      "(90, 2)\n",
      "0.8\n",
      "[[35  0  0]\n",
      " [ 0 19 10]\n",
      " [ 0  8 18]]\n"
     ]
    }
   ],
   "source": [
    "X_train, X_test, y_train, y_test = train_test_split(X, y, test_size=0.6, random_state=42)\n",
    "X_train, X_test = X_train[:,:2], X_test[:,:2]\n",
    "print(X_train.shape)\n",
    "print(X_test.shape)\n",
    "\n",
    "model = LogisticRegression(C=1e5, multi_class=\"multinomial\", solver=\"lbfgs\")\n",
    "model.fit(X_train, y_train)\n",
    "predictions = model.predict(X_test) \n",
    "print(metrics.accuracy_score(y_test, predictions))\n",
    "print(metrics.confusion_matrix(y_test, predictions))"
   ]
  },
  {
   "cell_type": "code",
   "execution_count": 38,
   "metadata": {},
   "outputs": [
    {
     "name": "stdout",
     "output_type": "stream",
     "text": [
      "[2 2 2 1 2 1 2 2 2 1 2 1 1 1 1 2 1 2]\n",
      "[1 1 1 2 1 2 1 1 1 2 1 2 2 2 2 1 2 1]\n",
      "[[6.8 2.8]\n",
      " [6.3 3.3]\n",
      " [6.7 3.1]\n",
      " [6.3 2.5]\n",
      " [6.4 3.2]\n",
      " [5.8 2.7]\n",
      " [6.  3.4]\n",
      " [6.7 3.1]\n",
      " [6.6 3. ]\n",
      " [6.3 2.7]\n",
      " [6.2 2.9]\n",
      " [5.7 2.5]\n",
      " [6.  3. ]\n",
      " [5.8 2.7]\n",
      " [6.4 2.7]\n",
      " [6.7 3. ]\n",
      " [5.8 2.8]\n",
      " [5.9 3.2]]\n"
     ]
    }
   ],
   "source": [
    "# Examples the model predicted wrong\n",
    "print(predictions[predictions != y_test])\n",
    "print(y_test[predictions != y_test])\n",
    "print(X_test[predictions != y_test])"
   ]
  },
  {
   "cell_type": "code",
   "execution_count": 39,
   "metadata": {},
   "outputs": [
    {
     "data": {
      "text/plain": [
       "array([[6.1, 2.6],\n",
       "       [6. , 2.2],\n",
       "       [6.5, 2.8],\n",
       "       [6.2, 2.8],\n",
       "       [7. , 3.2],\n",
       "       [6.1, 3. ],\n",
       "       [6.6, 2.9],\n",
       "       [6.9, 3.1],\n",
       "       [6.4, 2.9],\n",
       "       [5.6, 2.8],\n",
       "       [5.9, 3. ],\n",
       "       [4.9, 2.5]])"
      ]
     },
     "execution_count": 39,
     "metadata": {},
     "output_type": "execute_result"
    }
   ],
   "source": [
    "# Training errors\n",
    "X_train[model.predict(X_train) != y_train]"
   ]
  },
  {
   "cell_type": "code",
   "execution_count": 40,
   "metadata": {},
   "outputs": [
    {
     "name": "stdout",
     "output_type": "stream",
     "text": [
      "[[2.33269998e-25 5.57105411e-01 4.42894589e-01]\n",
      " [9.99813075e-01 4.90899064e-05 1.37835323e-04]\n",
      " [1.32996687e-66 1.86285363e-01 8.13714637e-01]\n",
      " [4.07201121e-21 5.44991722e-01 4.55008278e-01]\n",
      " [1.04336324e-41 3.38178648e-01 6.61821352e-01]\n",
      " [9.99289747e-01 3.66541265e-04 3.43711466e-04]\n",
      " [8.24660224e-12 6.67127803e-01 3.32872197e-01]\n",
      " [2.21080230e-38 2.08648299e-01 7.91351701e-01]\n",
      " [3.29997703e-39 7.62545984e-01 2.37454016e-01]\n",
      " [2.67288691e-20 6.88509095e-01 3.11490905e-01]\n",
      " [4.18359708e-27 2.69731725e-01 7.30268275e-01]\n",
      " [1.00000000e+00 3.34044467e-10 7.11062157e-11]\n",
      " [9.98102446e-01 8.34511804e-04 1.06304214e-03]\n",
      " [9.99999999e-01 7.61430387e-10 2.20181253e-10]\n",
      " [1.00000000e+00 7.29630485e-19 9.46520293e-19]\n",
      " [1.59484567e-20 2.85720600e-01 7.14279400e-01]\n",
      " [6.83732910e-31 3.45096292e-01 6.54903708e-01]\n",
      " [1.61994059e-19 8.03112417e-01 1.96887583e-01]\n",
      " [4.69614501e-16 6.77911566e-01 3.22088434e-01]\n",
      " [2.35265697e-32 4.60916559e-01 5.39083441e-01]\n",
      " [1.00000000e+00 2.11578199e-16 5.64933357e-17]\n",
      " [1.53590779e-21 4.68567330e-01 5.31432670e-01]\n",
      " [1.00000000e+00 2.21709599e-13 1.24249523e-13]\n",
      " [2.35265697e-32 4.60916559e-01 5.39083441e-01]\n",
      " [8.30601801e-49 2.05600644e-02 9.79439936e-01]\n",
      " [1.40993387e-35 2.89451647e-01 7.10548353e-01]\n",
      " [4.46983239e-45 4.97562450e-01 5.02437550e-01]\n",
      " [3.79431259e-34 2.00678338e-01 7.99321662e-01]\n",
      " [1.00000000e+00 3.34044467e-10 7.11062157e-11]\n",
      " [1.00000000e+00 3.77544778e-12 9.59905267e-13]\n",
      " [1.00000000e+00 1.71185083e-26 8.17953262e-27]\n",
      " [1.00000000e+00 1.02343084e-16 8.34385156e-16]\n",
      " [1.09606766e-33 2.54319015e-01 7.45680985e-01]\n",
      " [1.00000000e+00 5.45080972e-18 2.36151550e-18]\n",
      " [1.00000000e+00 2.57920407e-23 4.68102893e-24]\n",
      " [9.26878940e-36 6.23637793e-01 3.76362207e-01]\n",
      " [9.25346227e-25 2.95818070e-01 7.04181930e-01]\n",
      " [1.00000000e+00 1.01922990e-10 8.82509660e-11]\n",
      " [1.00000000e+00 2.83212792e-17 2.26431241e-17]\n",
      " [1.00000000e+00 2.12450258e-22 5.34126739e-22]\n",
      " [2.67288691e-20 6.88509095e-01 3.11490905e-01]\n",
      " [1.33724649e-11 3.30075530e-01 6.69924470e-01]\n",
      " [1.09606766e-33 2.54319015e-01 7.45680985e-01]\n",
      " [1.00000000e+00 6.76475958e-14 1.54207903e-13]\n",
      " [9.99999999e-01 5.29570758e-10 8.46184399e-10]\n",
      " [3.89489024e-19 8.47123162e-01 1.52876838e-01]\n",
      " [5.07520828e-30 4.93010122e-01 5.06989878e-01]\n",
      " [1.18124374e-26 3.34114849e-01 6.65885151e-01]\n",
      " [3.11043000e-33 3.16618274e-01 6.83381726e-01]\n",
      " [4.80871417e-36 6.86594054e-02 9.31340595e-01]\n",
      " [3.91020306e-14 6.37962339e-01 3.62037661e-01]\n",
      " [1.00081893e-56 1.13419682e-01 8.86580318e-01]\n",
      " [6.85293850e-10 6.26577813e-01 3.73422187e-01]\n",
      " [1.00000000e+00 5.05371117e-13 3.84740144e-13]\n",
      " [7.72846469e-63 1.38280044e-01 8.61719956e-01]\n",
      " [2.67288691e-20 6.88509095e-01 3.11490905e-01]\n",
      " [9.99999984e-01 9.01795290e-09 6.53730357e-09]\n",
      " [1.00000000e+00 2.50581313e-15 1.67731851e-15]\n",
      " [1.00000000e+00 7.29630485e-19 9.46520293e-19]\n",
      " [2.39186358e-15 9.55481573e-01 4.45184274e-02]\n",
      " [6.25206375e-32 5.37354857e-01 4.62645143e-01]\n",
      " [1.00000000e+00 5.45080972e-18 2.36151550e-18]\n",
      " [9.99982672e-01 1.35868954e-05 3.74114008e-06]\n",
      " [9.99999994e-01 3.95623468e-09 2.11118302e-09]\n",
      " [1.16988099e-15 7.40879041e-01 2.59120959e-01]\n",
      " [1.00000000e+00 4.47142790e-11 2.85001204e-11]\n",
      " [3.23217103e-12 5.96010962e-01 4.03989038e-01]\n",
      " [4.34393787e-44 2.64357559e-02 9.73564244e-01]\n",
      " [1.00000000e+00 1.04908138e-18 2.46289135e-19]\n",
      " [8.83160165e-26 4.80777224e-01 5.19222776e-01]\n",
      " [7.82077482e-22 7.81967625e-01 2.18032375e-01]\n",
      " [1.00000000e+00 1.96972981e-17 8.70203895e-17]\n",
      " [3.31002632e-19 5.00698824e-01 4.99301176e-01]\n",
      " [2.67288691e-20 6.88509095e-01 3.11490905e-01]\n",
      " [1.41869986e-34 8.05976115e-01 1.94023885e-01]\n",
      " [3.04538849e-05 6.84569280e-01 3.15400266e-01]\n",
      " [2.74739151e-16 2.75832788e-01 7.24167212e-01]\n",
      " [4.51443293e-21 8.68741069e-01 1.31258931e-01]\n",
      " [1.00000000e+00 6.76475958e-14 1.54207903e-13]\n",
      " [1.60635511e-09 9.26445812e-01 7.35541859e-02]\n",
      " [2.91479492e-34 5.05251395e-01 4.94748605e-01]\n",
      " [1.00000000e+00 1.96164453e-11 9.20394302e-12]\n",
      " [9.99999998e-01 1.73562591e-09 6.81793901e-10]\n",
      " [3.89489024e-19 8.47123162e-01 1.52876838e-01]\n",
      " [1.40993387e-35 2.89451647e-01 7.10548353e-01]\n",
      " [9.99999999e-01 7.61430387e-10 2.20181253e-10]\n",
      " [2.22987894e-18 6.49194106e-01 3.50805894e-01]\n",
      " [1.00000000e+00 2.21709599e-13 1.24249523e-13]\n",
      " [1.00000000e+00 2.50581313e-15 1.67731851e-15]\n",
      " [4.63702647e-13 4.44274444e-01 5.55725556e-01]]\n",
      "[1 0 2 1 2 0 1 2 1 1 2 0 0 0 0 2 2 1 1 2 0 2 0 2 2 2 2 2 0 0 0 0 2 0 0 1 2\n",
      " 0 0 0 1 2 2 0 0 1 2 2 2 2 1 2 1 0 2 1 0 0 0 1 1 0 0 0 1 0 1 2 0 2 1 0 1 1\n",
      " 1 1 2 1 0 1 1 0 0 1 2 0 1 0 0 2]\n",
      "[1 0 2 1 2 0 1 2 1 1 2 0 0 0 0 2 2 1 1 2 0 2 0 2 2 2 2 2 0 0 0 0 2 0 0 1 2\n",
      " 0 0 0 1 2 2 0 0 1 2 2 2 2 1 2 1 0 2 1 0 0 0 1 1 0 0 0 1 0 1 2 0 2 1 0 1 1\n",
      " 1 1 2 1 0 1 1 0 0 1 2 0 1 0 0 2]\n"
     ]
    }
   ],
   "source": [
    "probabilities = model.predict_proba(X_test)\n",
    "print(probabilities)\n",
    "print(np.argmax(probabilities, axis=1))\n",
    "print(predictions)"
   ]
  },
  {
   "cell_type": "code",
   "execution_count": 42,
   "metadata": {},
   "outputs": [
    {
     "name": "stdout",
     "output_type": "stream",
     "text": [
      "[[3.8  3.82 3.84 ... 8.14 8.16 8.18]\n",
      " [3.8  3.82 3.84 ... 8.14 8.16 8.18]\n",
      " [3.8  3.82 3.84 ... 8.14 8.16 8.18]\n",
      " ...\n",
      " [3.8  3.82 3.84 ... 8.14 8.16 8.18]\n",
      " [3.8  3.82 3.84 ... 8.14 8.16 8.18]\n",
      " [3.8  3.82 3.84 ... 8.14 8.16 8.18]]\n",
      "!\n",
      "[[1.7  1.7  1.7  ... 1.7  1.7  1.7 ]\n",
      " [1.72 1.72 1.72 ... 1.72 1.72 1.72]\n",
      " [1.74 1.74 1.74 ... 1.74 1.74 1.74]\n",
      " ...\n",
      " [4.44 4.44 4.44 ... 4.44 4.44 4.44]\n",
      " [4.46 4.46 4.46 ... 4.46 4.46 4.46]\n",
      " [4.48 4.48 4.48 ... 4.48 4.48 4.48]]\n"
     ]
    },
    {
     "data": {
      "image/png": "[encoded data removed]",
      "text/plain": [
       "<Figure size 288x216 with 1 Axes>"
      ]
     },
     "metadata": {},
     "output_type": "display_data"
    }
   ],
   "source": [
    "# Plot the decision boundary. For that, we will assign a color to each\n",
    "# point in the mesh [x_min, x_max]x[y_min, y_max].\n",
    "x_min, x_max = X_train[:, 0].min() - .5, X_train[:, 0].max() + .5\n",
    "y_min, y_max = X_train[:, 1].min() - .5, X_train[:, 1].max() + .5\n",
    "h = .02  # step size in the mesh\n",
    "xx, yy = np.meshgrid(np.arange(x_min, x_max, h), np.arange(y_min, y_max, h))\n",
    "Z = model.predict(np.c_[xx.ravel(), yy.ravel()])\n",
    "print(xx)\n",
    "print (\"!\")\n",
    "print(yy)\n",
    "# Put the result into a color plot\n",
    "Z = Z.reshape(xx.shape)\n",
    "plt.figure(1, figsize=(4, 3))\n",
    "plt.pcolormesh(xx, yy, Z, cmap=plt.cm.Paired)\n",
    "\n",
    "# Plot also the points\n",
    "prediction = model.predict(X_test)\n",
    "mistake_index = (prediction != y_test)\n",
    "temp_index0 = y_test == 0\n",
    "temp_index1 = y_test == 1\n",
    "temp_index2 = y_test == 2\n",
    "c = np.array(mistake_index).astype(int)\n",
    "c0 = np.array(temp_index0).astype(int)\n",
    "c1 = np.array(temp_index1).astype(int)\n",
    "c2 = np.array(temp_index2).astype(int)\n",
    "index0 = c + c0\n",
    "index1 = c + c1\n",
    "index2 = c + c2\n",
    "\n",
    "\n",
    "mistakes = X_test[mistake_index]\n",
    "mistakes0 = X_test[index0 == 2]\n",
    "mistakes1 = X_test[index1 == 2]\n",
    "mistakes2 = X_test[index2 == 2]\n",
    "plt.scatter(mistakes[:,0], mistakes[:, 1], edgecolors='k', c=prediction[mistake_index])\n",
    "#plt.scatter(mistakes1[:,0], mistakes1[:, 1], edgecolors='k', color='b')\n",
    "#plt.scatter(mistakes2[:,0], mistakes2[:, 1], edgecolors='k', color='m')\n",
    "plt.xlabel('Sepal length')\n",
    "plt.ylabel('Sepal width')\n",
    "\n",
    "plt.xlim(xx.min(), xx.max())\n",
    "plt.ylim(yy.min(), yy.max())\n",
    "plt.xticks(())\n",
    "plt.yticks(())\n",
    "\n",
    "plt.show()\n"
   ]
  },
  {
   "cell_type": "code",
   "execution_count": 80,
   "metadata": {},
   "outputs": [
    {
     "name": "stdout",
     "output_type": "stream",
     "text": [
      "(75, 2)\n",
      "(75, 2)\n",
      "0.48\n"
     ]
    },
    {
     "data": {
      "image/png": "[encoded data removed]",
      "text/plain": [
       "<Figure size 288x216 with 1 Axes>"
      ]
     },
     "metadata": {},
     "output_type": "display_data"
    }
   ],
   "source": [
    "X_train, X_test, y_train, y_test = train_test_split(X, y, test_size=0.5, random_state=42)\n",
    "X_train, X_test = X_train[:,:2], X_test[:,:2]\n",
    "print(X_train.shape)\n",
    "print(X_test.shape)\n",
    "\n",
    "# smaller values specify stronger regularization\n",
    "model = LogisticRegression(C=0.01, multi_class=\"multinomial\", solver=\"newton-cg\", penalty=\"l2\")\n",
    "model.fit(X_train, y_train)\n",
    "predictions = model.predict(X_test) \n",
    "print(metrics.accuracy_score(y_test, predictions))\n",
    "\n",
    "x_min, x_max = X_train[:, 0].min() - .5, X_train[:, 0].max() + .5\n",
    "y_min, y_max = X_train[:, 1].min() - .5, X_train[:, 1].max() + .5\n",
    "h = .02  # step size in the mesh\n",
    "xx, yy = np.meshgrid(np.arange(x_min, x_max, h), np.arange(y_min, y_max, h))\n",
    "Z = model.predict(np.c_[xx.ravel(), yy.ravel()])\n",
    "\n",
    "# Put the result into a color plot\n",
    "Z = Z.reshape(xx.shape)\n",
    "plt.figure(1, figsize=(4, 3))\n",
    "plt.pcolormesh(xx, yy, Z, cmap=plt.cm.Paired)\n",
    "\n",
    "# Plot also the training points\n",
    "# plt.scatter(X_train[:, 0], X_train[:, 1], c=Y, edgecolors='k', cmap=plt.cm.Paired)\n",
    "mistakes = X_train[model.predict(X_train) != y_train]\n",
    "plt.scatter(mistakes[:,0], mistakes[:, 1], edgecolors='k', c=y_train[model.predict(X_train) != y_train])\n",
    "plt.xlabel('Sepal length')\n",
    "plt.ylabel('Sepal width')\n",
    "\n",
    "plt.xlim(xx.min(), xx.max())\n",
    "plt.ylim(yy.min(), yy.max())\n",
    "plt.xticks(())\n",
    "plt.yticks(())\n",
    "\n",
    "plt.show()"
   ]
  },
  {
   "cell_type": "code",
   "execution_count": null,
   "metadata": {},
   "outputs": [],
   "source": []
  }
 ],
 "metadata": {
  "kernelspec": {
   "display_name": "Python 3",
   "language": "python",
   "name": "python3"
  },
  "language_info": {
   "codemirror_mode": {
    "name": "ipython",
    "version": 3
   },
   "file_extension": ".py",
   "mimetype": "text/x-python",
   "name": "python",
   "nbconvert_exporter": "python",
   "pygments_lexer": "ipython3",
   "version": "3.8.3"
  }
 },
 "nbformat": 4,
 "nbformat_minor": 4
}
