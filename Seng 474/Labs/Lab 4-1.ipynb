{
 "cells": [
  {
   "cell_type": "markdown",
   "metadata": {},
   "source": [
    "# Introduction to Pandas\n",
    "Data Mining Lab, UVic Summer 2020  <br>\n"
   ]
  },
  {
   "cell_type": "code",
   "execution_count": 2,
   "metadata": {},
   "outputs": [],
   "source": [
    "import numpy as np\n",
    "import pandas as pd"
   ]
  },
  {
   "cell_type": "markdown",
   "metadata": {},
   "source": [
    "## Series (Only contains a single list with index)\n",
    "### How to build it\n",
    "\n",
    "* From NumPy array/List as the source of numerical data\n",
    "* From dictionary"
   ]
  },
  {
   "cell_type": "code",
   "execution_count": 3,
   "metadata": {},
   "outputs": [
    {
     "name": "stdout",
     "output_type": "stream",
     "text": [
      "a    10\n",
      "b    20\n",
      "c    30\n",
      "dtype: int64\n",
      "a    10\n",
      "b    20\n",
      "c    30\n",
      "dtype: int64\n"
     ]
    }
   ],
   "source": [
    "labels = ['a','b','c']\n",
    "my_data = [10,20,30]\n",
    "arr = np.array(my_data)\n",
    "d = {'a':10,'b':20,'c':30}\n",
    "ser1 = pd.Series(d)\n",
    "print(ser1)\n",
    "ser2 = pd.Series(my_data,index=labels)\n",
    "print(ser2)"
   ]
  },
  {
   "cell_type": "markdown",
   "metadata": {},
   "source": [
    "### Adding/Merging two series with common indices"
   ]
  },
  {
   "cell_type": "code",
   "execution_count": 4,
   "metadata": {},
   "outputs": [
    {
     "name": "stdout",
     "output_type": "stream",
     "text": [
      "CA    1\n",
      "OR    2\n",
      "CO    3\n",
      "AZ    4\n",
      "dtype: int64\n",
      "AZ    8.0\n",
      "CA    2.0\n",
      "CO    NaN\n",
      "NV    NaN\n",
      "OR    4.0\n",
      "dtype: float64\n",
      "AZ    16.0\n",
      "CA     1.0\n",
      "CO     NaN\n",
      "NV     NaN\n",
      "OR     4.0\n",
      "dtype: float64\n",
      "AZ    55.200210\n",
      "CA     2.718282\n",
      "CO          NaN\n",
      "NV          NaN\n",
      "OR     7.690086\n",
      "dtype: float64\n"
     ]
    }
   ],
   "source": [
    "ser1 = pd.Series([1,2,3,4],['CA', 'OR', 'CO', 'AZ'])\n",
    "print(ser1)\n",
    "ser2 = pd.Series([1,2,5,4],['CA', 'OR', 'NV', 'AZ'])\n",
    "print(ser1 + ser2)\n",
    "print(ser1 * ser2)\n",
    "print (np.exp(ser1)+np.log10(ser2))"
   ]
  },
  {
   "cell_type": "markdown",
   "metadata": {},
   "source": [
    "# DataFrame (Collection of Series)\n"
   ]
  },
  {
   "cell_type": "code",
   "execution_count": 8,
   "metadata": {},
   "outputs": [
    {
     "name": "stdout",
     "output_type": "stream",
     "text": [
      "(5, 4)\n",
      "          W         X         Y         Z\n",
      "A -1.926203 -0.007552  0.472684  0.223006\n",
      "B  0.207334 -1.644486  0.879384 -1.839049\n",
      "C  0.684101  0.905803  0.552485 -0.402605\n",
      "D -0.096164  1.415637  0.844134  2.482585\n",
      "E  0.859008  0.516155 -0.790224  0.372994\n",
      "              W         X         Y         Z\n",
      "count  5.000000  5.000000  5.000000  5.000000\n",
      "mean  -0.054385  0.237111  0.391693  0.167386\n",
      "std    1.112834  1.174117  0.684085  1.561745\n",
      "min   -1.926203 -1.644486 -0.790224 -1.839049\n",
      "25%   -0.096164 -0.007552  0.472684 -0.402605\n",
      "50%    0.207334  0.516155  0.552485  0.223006\n",
      "75%    0.684101  0.905803  0.844134  0.372994\n",
      "max    0.859008  1.415637  0.879384  2.482585\n",
      "          X         Z\n",
      "A -0.007552  0.223006\n",
      "B -1.644486 -1.839049\n",
      "C  0.905803 -0.402605\n",
      "D  1.415637  2.482585\n",
      "E  0.516155  0.372994\n"
     ]
    }
   ],
   "source": [
    "from numpy.random import randn as rn\n",
    "matrix_data = rn(5,4)\n",
    "print(matrix_data.shape)\n",
    "row_labels = ['A','B','C','D','E']\n",
    "column_headings = ['W','X','Y','Z']\n",
    "\n",
    "df = pd.DataFrame(data=matrix_data, index=row_labels, columns=column_headings)\n",
    "print(df)\n",
    "print(df.describe())\n",
    "#Indxing and Slicing by using bracket method\n",
    "print(df[['X','Z']])"
   ]
  },
  {
   "cell_type": "markdown",
   "metadata": {},
   "source": [
    "### Creating and deleting a (new) column (or row)\n"
   ]
  },
  {
   "cell_type": "code",
   "execution_count": 9,
   "metadata": {},
   "outputs": [
    {
     "name": "stdout",
     "output_type": "stream",
     "text": [
      "\n",
      "A column is created by assigning it in relation to an existing column\n",
      "---------------------------------------------------------------------------\n",
      "          W         X         Y         Z       New       X+Z\n",
      "A -1.926203 -0.007552  0.472684  0.223006  0.215454  0.215454\n",
      "B  0.207334 -1.644486  0.879384 -1.839049 -3.483535 -3.483535\n",
      "C  0.684101  0.905803  0.552485 -0.402605  0.503198  0.503198\n",
      "D -0.096164  1.415637  0.844134  2.482585  3.898221  3.898221\n",
      "E  0.859008  0.516155 -0.790224  0.372994  0.889149  0.889149\n",
      "\n",
      "A column is dropped by using df.drop() method\n",
      "-------------------------------------------------------\n",
      "          W         X         Y         Z       X+Z\n",
      "A -1.926203 -0.007552  0.472684  0.223006  0.215454\n",
      "B  0.207334 -1.644486  0.879384 -1.839049 -3.483535\n",
      "C  0.684101  0.905803  0.552485 -0.402605  0.503198\n",
      "D -0.096164  1.415637  0.844134  2.482585  3.898221\n",
      "E  0.859008  0.516155 -0.790224  0.372994  0.889149\n",
      "\n",
      "A row (index) is dropped by using df.drop() method and axis=0\n",
      "-----------------------------------------------------------------\n",
      "          W         X         Y         Z       X+Z\n",
      "B  0.207334 -1.644486  0.879384 -1.839049 -3.483535\n",
      "C  0.684101  0.905803  0.552485 -0.402605  0.503198\n",
      "D -0.096164  1.415637  0.844134  2.482585  3.898221\n",
      "E  0.859008  0.516155 -0.790224  0.372994  0.889149\n",
      "\n",
      "An in-place change can be done by making inplace=True in the drop method\n",
      "---------------------------------------------------------------------------\n",
      "          W         X         Y         Z\n",
      "A -1.926203 -0.007552  0.472684  0.223006\n",
      "B  0.207334 -1.644486  0.879384 -1.839049\n",
      "C  0.684101  0.905803  0.552485 -0.402605\n",
      "D -0.096164  1.415637  0.844134  2.482585\n",
      "E  0.859008  0.516155 -0.790224  0.372994\n"
     ]
    }
   ],
   "source": [
    "print(\"\\nA column is created by assigning it in relation to an existing column\\n\",'-'*75, sep='')\n",
    "df['New'] = df['X']+df['Z']\n",
    "df['X+Z'] = df['X']+df['Z']\n",
    "print(df)\n",
    "print(\"\\nA column is dropped by using df.drop() method\\n\",'-'*55, sep='')\n",
    "df = df.drop('New', axis=1) # Notice the axis=1 option, axis = 0 is default, so one has to change it to 1\n",
    "print(df)\n",
    "df1=df.drop('A')\n",
    "print(\"\\nA row (index) is dropped by using df.drop() method and axis=0\\n\",'-'*65, sep='')\n",
    "print(df1)\n",
    "print(\"\\nAn in-place change can be done by making inplace=True in the drop method\\n\",'-'*75, sep='')\n",
    "df.drop('X+Z', axis=1, inplace=True)\n",
    "print(df)"
   ]
  },
  {
   "cell_type": "markdown",
   "metadata": {},
   "source": [
    "### Selecting/indexing Rows\n",
    "* Label-based 'loc' method\n",
    "* Index (numeric) 'iloc' method"
   ]
  },
  {
   "cell_type": "code",
   "execution_count": 10,
   "metadata": {},
   "outputs": [
    {
     "name": "stdout",
     "output_type": "stream",
     "text": [
      "\n",
      "Label-based 'loc' method can be used for selecting row(s)\n",
      "------------------------------------------------------------\n",
      "\n",
      "Single row\n",
      "\n",
      "W   -0.112592\n",
      "X    0.046656\n",
      "Y    0.277377\n",
      "Z    1.015943\n",
      "Name: C, dtype: float64\n",
      "\n",
      "Multiple rows\n",
      "\n",
      "          W         X         Y         Z\n",
      "B -0.936290 -1.483546  0.132742 -0.592889\n",
      "C -0.112592  0.046656  0.277377  1.015943\n",
      "\n",
      "Index position based 'iloc' method can be used for selecting row(s)\n",
      "----------------------------------------------------------------------\n",
      "\n",
      "Single row\n",
      "\n",
      "W   -0.112592\n",
      "X    0.046656\n",
      "Y    0.277377\n",
      "Z    1.015943\n",
      "Name: C, dtype: float64\n",
      "\n",
      "Multiple rows\n",
      "\n",
      "          W         X         Y         Z\n",
      "B -0.936290 -1.483546  0.132742 -0.592889\n",
      "C -0.112592  0.046656  0.277377  1.015943\n"
     ]
    }
   ],
   "source": [
    "print(\"\\nLabel-based 'loc' method can be used for selecting row(s)\\n\",'-'*60, sep='')\n",
    "print(\"\\nSingle row\\n\")\n",
    "print(df.loc['C'])\n",
    "print(\"\\nMultiple rows\\n\")\n",
    "print(df.loc[['B','C']])\n",
    "print(\"\\nIndex position based 'iloc' method can be used for selecting row(s)\\n\",'-'*70, sep='')\n",
    "print(\"\\nSingle row\\n\")\n",
    "print(df.iloc[2])\n",
    "print(\"\\nMultiple rows\\n\")\n",
    "print(df.iloc[[1,2]])"
   ]
  },
  {
   "cell_type": "markdown",
   "metadata": {},
   "source": [
    "### Subsetting DataFrame\n"
   ]
  },
  {
   "cell_type": "code",
   "execution_count": 11,
   "metadata": {},
   "outputs": [
    {
     "name": "stdout",
     "output_type": "stream",
     "text": [
      "\n",
      "The DatFrame\n",
      "---------------------------------------------\n",
      "          W         X         Y         Z\n",
      "A  2.706850  0.628133  0.907969  0.503826\n",
      "B  0.651118 -0.319318 -0.848077  0.605965\n",
      "C -2.018168  0.740122  0.528813 -0.589001\n",
      "D  0.188695 -0.758872 -0.933237  0.955057\n",
      "E  0.190794  1.978757  2.605967  0.683509\n",
      "\n",
      "Element at row 'B' and column 'Y' is\n",
      "\n",
      "-0.8480769834036315\n",
      "\n",
      "Subset comprising of rows B and D, and columns W and Y, is\n",
      "\n"
     ]
    },
    {
     "data": {
      "text/html": [
       "<div>\n",
       "<style scoped>\n",
       "    .dataframe tbody tr th:only-of-type {\n",
       "        vertical-align: middle;\n",
       "    }\n",
       "\n",
       "    .dataframe tbody tr th {\n",
       "        vertical-align: top;\n",
       "    }\n",
       "\n",
       "    .dataframe thead th {\n",
       "        text-align: right;\n",
       "    }\n",
       "</style>\n",
       "<table border=\"1\" class=\"dataframe\">\n",
       "  <thead>\n",
       "    <tr style=\"text-align: right;\">\n",
       "      <th></th>\n",
       "      <th>W</th>\n",
       "      <th>Y</th>\n",
       "    </tr>\n",
       "  </thead>\n",
       "  <tbody>\n",
       "    <tr>\n",
       "      <th>B</th>\n",
       "      <td>0.651118</td>\n",
       "      <td>-0.848077</td>\n",
       "    </tr>\n",
       "    <tr>\n",
       "      <th>D</th>\n",
       "      <td>0.188695</td>\n",
       "      <td>-0.933237</td>\n",
       "    </tr>\n",
       "  </tbody>\n",
       "</table>\n",
       "</div>"
      ],
      "text/plain": [
       "          W         Y\n",
       "B  0.651118 -0.848077\n",
       "D  0.188695 -0.933237"
      ]
     },
     "execution_count": 11,
     "metadata": {},
     "output_type": "execute_result"
    }
   ],
   "source": [
    "np.random.seed(101)\n",
    "matrix_data = rn(5,4)\n",
    "row_labels = ['A','B','C','D','E']\n",
    "column_headings = ['W','X','Y','Z']\n",
    "df = pd.DataFrame(data=matrix_data, index=row_labels, columns=column_headings)\n",
    "\n",
    "print(\"\\nThe DatFrame\\n\",'-'*45, sep='')\n",
    "print(df)\n",
    "print(\"\\nElement at row 'B' and column 'Y' is\\n\") \n",
    "print(df.loc['B','Y'])\n",
    "print(\"\\nSubset comprising of rows B and D, and columns W and Y, is\\n\")\n",
    "df.loc[['B','D'],['W','Y']]"
   ]
  },
  {
   "cell_type": "code",
   "execution_count": 12,
   "metadata": {},
   "outputs": [
    {
     "name": "stdout",
     "output_type": "stream",
     "text": [
      "          W         X         Y         Z\n",
      "A  2.706850  0.628133  0.907969  0.503826\n",
      "B  0.651118 -0.319318 -0.848077  0.605965\n",
      "C -2.018168  0.740122  0.528813 -0.589001\n",
      "D  0.188695 -0.758872 -0.933237  0.955057\n",
      "E  0.190794  1.978757  2.605967  0.683509\n",
      "          W         X         Y         Z\n",
      "A  2.706850  0.628133  0.907969  0.503826\n",
      "B  0.651118       NaN       NaN  0.605965\n",
      "C       NaN  0.740122  0.528813       NaN\n",
      "D  0.188695       NaN       NaN  0.955057\n",
      "E  0.190794  1.978757  2.605967  0.683509\n",
      "          W         X         Y         Z\n",
      "A  2.706850  0.628133  0.907969  0.503826\n",
      "B  0.651118 -0.319318 -0.848077  0.605965\n",
      "D  0.188695 -0.758872 -0.933237  0.955057\n",
      "E  0.190794  1.978757  2.605967  0.683509\n"
     ]
    }
   ],
   "source": [
    "print(df)\n",
    "# print(df>0)\n",
    "print(df[df>0])\n",
    "print(df[df['W']>0])\n",
    "\n",
    "#Let's create another dataframe\n"
   ]
  },
  {
   "cell_type": "markdown",
   "metadata": {},
   "source": [
    "### Querying on the DataFrame"
   ]
  },
  {
   "cell_type": "code",
   "execution_count": 13,
   "metadata": {},
   "outputs": [
    {
     "name": "stdout",
     "output_type": "stream",
     "text": [
      "   Age  Height  Weight\n",
      "A   22      66     140\n",
      "B   42      70     148\n",
      "C   30      62     125\n",
      "D   35      68     160\n",
      "E   25      62     152\n",
      "\n",
      "Rows with Height > 65 inch\n",
      "-----------------------------------\n",
      "   Age  Height  Weight\n",
      "A   22      66     140\n",
      "B   42      70     148\n",
      "D   35      68     160\n",
      "\n",
      "Rows with Height > 65 inch and Weight >145 lbs\n",
      "-------------------------------------------------------\n",
      "   Age  Height  Weight\n",
      "B   42      70     148\n",
      "D   35      68     160\n"
     ]
    }
   ],
   "source": [
    "matrix_data = np.matrix('22,66,140;42,70,148;30,62,125;35,68,160;25,62,152')\n",
    "row_labels = ['A','B','C','D','E']\n",
    "column_headings = ['Age', 'Height', 'Weight']\n",
    "\n",
    "df = pd.DataFrame(data=matrix_data, index=row_labels, columns=column_headings)\n",
    "print(df)\n",
    "print(\"\\nRows with Height > 65 inch\\n\",'-'*35, sep='')\n",
    "print(df[df['Height']>65])\n",
    "\n",
    "booldf1 = df['Height']>65\n",
    "booldf2 = df['Weight']>145\n",
    "print(\"\\nRows with Height > 65 inch and Weight >145 lbs\\n\",'-'*55, sep='')\n",
    "print(df[(booldf1) & (booldf2)])\n",
    "\n",
    "# print(\"\\nDataFrame with only Age and Weight columns whose Height > 65 inch\\n\",'-'*68, sep='')\n",
    "# print(df[booldf1][['Age','Weight']])"
   ]
  },
  {
   "cell_type": "markdown",
   "metadata": {},
   "source": [
    "### Missing Values"
   ]
  },
  {
   "cell_type": "code",
   "execution_count": 14,
   "metadata": {},
   "outputs": [
    {
     "name": "stdout",
     "output_type": "stream",
     "text": [
      "          A    B  C\n",
      "States             \n",
      "CA      1.0  5.0  1\n",
      "NV      2.0  NaN  2\n",
      "AZ      NaN  NaN  3\n",
      "          A    B  C\n",
      "States             \n",
      "CA      1.0  5.0  1\n",
      "          A    B  C\n",
      "States             \n",
      "CA      1.0  5.0  1\n",
      "NV      2.0  NaN  2\n",
      "         A   B  C\n",
      "States           \n",
      "CA       1   5  1\n",
      "NV       2  -1  2\n",
      "AZ      -1  -1  3\n",
      "\n",
      "Filling values with a computed value (mean of column A here)\n",
      "------------------------------------------------------------\n",
      "          A    B  C\n",
      "States             \n",
      "CA      1.0  5.0  1\n",
      "NV      2.0  1.5  2\n",
      "AZ      1.5  1.5  3\n"
     ]
    }
   ],
   "source": [
    "df = pd.DataFrame({'States':[\"CA\", \"NV\" , \"AZ\"],'A':[1,2,np.nan],'B':[5,np.nan,np.nan],'C':[1,2,3]})\n",
    "df.set_index('States',inplace=True)\n",
    "print(df)\n",
    "###dropna method\n",
    "print(df.dropna())\n",
    "print(df.dropna(thresh=2))\n",
    "#fill NA values with the average of that columns\n",
    "print(df.fillna(value='-1'))\n",
    "print(\"\\nFilling values with a computed value (mean of column A here)\\n\",'-'*60, sep='')\n",
    "print(df.fillna(value=df['A'].mean()))\n"
   ]
  },
  {
   "cell_type": "markdown",
   "metadata": {},
   "source": [
    "### Groupby Method"
   ]
  },
  {
   "cell_type": "code",
   "execution_count": 15,
   "metadata": {},
   "outputs": [
    {
     "name": "stdout",
     "output_type": "stream",
     "text": [
      "        Sales                                                      \n",
      "        count   mean         std    min    25%    50%    75%    max\n",
      "Company                                                            \n",
      "GOOG      2.0  160.0   56.568542  120.0  140.0  160.0  180.0  200.0\n",
      "MSFT      2.0  232.0  152.735065  124.0  178.0  232.0  286.0  340.0\n"
     ]
    }
   ],
   "source": [
    "# Create dataframe\n",
    "data = {'Company':['GOOG','GOOG','MSFT','MSFT','FB','FB'],\n",
    "       'Person':['Sam','Charlie','Amy','Vanessa','Carl','Sarah'],\n",
    "       'Sales':[200,120,340,124,243,350]}\n",
    "df = pd.DataFrame(data)\n",
    "# df\n",
    "print(df.groupby('Company').describe().loc[['GOOG', 'MSFT']])\n"
   ]
  },
  {
   "cell_type": "markdown",
   "metadata": {},
   "source": [
    "## Merging, Joining, Concatenating\n",
    "### Concatenation"
   ]
  },
  {
   "cell_type": "code",
   "execution_count": 16,
   "metadata": {},
   "outputs": [
    {
     "name": "stdout",
     "output_type": "stream",
     "text": [
      "      A    B    C    D\n",
      "0    A0   B0   C0   D0\n",
      "1    A1   B1   C1   D1\n",
      "2    A2   B2   C2   D2\n",
      "3    A3   B3   C3   D3\n",
      "4    A4   B4   C4   D4\n",
      "5    A5   B5   C5   D5\n",
      "6    A6   B6   C6   D6\n",
      "7    A7   B7   C7   D7\n",
      "8    A8   B8   C8   D8\n",
      "9    A9   B9   C9   D9\n",
      "10  A10  B10  C10  D10\n",
      "11  A11  B11  C11  D11\n",
      "      A    B    C    D    A    B    C    D    A    B    C    D\n",
      "0    A0   B0   C0   D0  NaN  NaN  NaN  NaN  NaN  NaN  NaN  NaN\n",
      "1    A1   B1   C1   D1  NaN  NaN  NaN  NaN  NaN  NaN  NaN  NaN\n",
      "2    A2   B2   C2   D2  NaN  NaN  NaN  NaN  NaN  NaN  NaN  NaN\n",
      "3    A3   B3   C3   D3  NaN  NaN  NaN  NaN  NaN  NaN  NaN  NaN\n",
      "4   NaN  NaN  NaN  NaN   A4   B4   C4   D4  NaN  NaN  NaN  NaN\n",
      "5   NaN  NaN  NaN  NaN   A5   B5   C5   D5  NaN  NaN  NaN  NaN\n",
      "6   NaN  NaN  NaN  NaN   A6   B6   C6   D6  NaN  NaN  NaN  NaN\n",
      "7   NaN  NaN  NaN  NaN   A7   B7   C7   D7  NaN  NaN  NaN  NaN\n",
      "8   NaN  NaN  NaN  NaN  NaN  NaN  NaN  NaN   A8   B8   C8   D8\n",
      "9   NaN  NaN  NaN  NaN  NaN  NaN  NaN  NaN   A9   B9   C9   D9\n",
      "10  NaN  NaN  NaN  NaN  NaN  NaN  NaN  NaN  A10  B10  C10  D10\n",
      "11  NaN  NaN  NaN  NaN  NaN  NaN  NaN  NaN  A11  B11  C11  D11\n",
      "     A   B   C   D   A   B   C   D    A    B    C    D\n",
      "0   A0  B0  C0  D0   0   0   0   0    0    0    0    0\n",
      "1   A1  B1  C1  D1   0   0   0   0    0    0    0    0\n",
      "2   A2  B2  C2  D2   0   0   0   0    0    0    0    0\n",
      "3   A3  B3  C3  D3   0   0   0   0    0    0    0    0\n",
      "4    0   0   0   0  A4  B4  C4  D4    0    0    0    0\n",
      "5    0   0   0   0  A5  B5  C5  D5    0    0    0    0\n",
      "6    0   0   0   0  A6  B6  C6  D6    0    0    0    0\n",
      "7    0   0   0   0  A7  B7  C7  D7    0    0    0    0\n",
      "8    0   0   0   0   0   0   0   0   A8   B8   C8   D8\n",
      "9    0   0   0   0   0   0   0   0   A9   B9   C9   D9\n",
      "10   0   0   0   0   0   0   0   0  A10  B10  C10  D10\n",
      "11   0   0   0   0   0   0   0   0  A11  B11  C11  D11\n"
     ]
    }
   ],
   "source": [
    "df1 = pd.DataFrame({'A': ['A0', 'A1', 'A2', 'A3'],\n",
    "                        'B': ['B0', 'B1', 'B2', 'B3'],\n",
    "                        'C': ['C0', 'C1', 'C2', 'C3'],\n",
    "                        'D': ['D0', 'D1', 'D2', 'D3']},\n",
    "                        index=[0, 1, 2, 3])\n",
    "\n",
    "df2 = pd.DataFrame({'A': ['A4', 'A5', 'A6', 'A7'],\n",
    "                        'B': ['B4', 'B5', 'B6', 'B7'],\n",
    "                        'C': ['C4', 'C5', 'C6', 'C7'],\n",
    "                        'D': ['D4', 'D5', 'D6', 'D7']},\n",
    "                         index=[4, 5, 6, 7])\n",
    "\n",
    "df3 = pd.DataFrame({'A': ['A8', 'A9', 'A10', 'A11'],\n",
    "                        'B': ['B8', 'B9', 'B10', 'B11'],\n",
    "                        'C': ['C8', 'C9', 'C10', 'C11'],\n",
    "                        'D': ['D8', 'D9', 'D10', 'D11']},\n",
    "                        index=[8,9,10,11])\n",
    "df_cat1 = pd.concat([df1,df2,df3], axis=0) # Concatenation along rows\n",
    "print(df_cat1)\n",
    "\n",
    "df_cat2 = pd.concat([df1,df2,df3], axis=1) # Concatenation along columns\n",
    "print(df_cat2)\n",
    "df_cat3 = df_cat2.fillna(value=0)\n",
    "print(df_cat3)"
   ]
  },
  {
   "cell_type": "markdown",
   "metadata": {},
   "source": [
    "### Merging by common keys"
   ]
  },
  {
   "cell_type": "code",
   "execution_count": 17,
   "metadata": {},
   "outputs": [
    {
     "name": "stdout",
     "output_type": "stream",
     "text": [
      "  key   A   B\n",
      "0  K4  A0  B0\n",
      "1  K1  A1  B1\n",
      "2  K2  A2  B2\n",
      "3  K3  A3  B3\n",
      "  key   C   D\n",
      "0  K0  C0  D0\n",
      "1  K1  C1  D1\n",
      "2  K2  C2  D2\n",
      "3  K3  C3  D3\n",
      "  key   A   B   C   D\n",
      "0  K1  A1  B1  C1  D1\n",
      "1  K2  A2  B2  C2  D2\n",
      "2  K3  A3  B3  C3  D3\n"
     ]
    }
   ],
   "source": [
    "left = pd.DataFrame({'key': ['K4', 'K1', 'K2', 'K3'],\n",
    "                     'A': ['A0', 'A1', 'A2', 'A3'],\n",
    "                     'B': ['B0', 'B1', 'B2', 'B3']})\n",
    "print(left)\n",
    "   \n",
    "right = pd.DataFrame({'key': ['K0', 'K1', 'K2', 'K3'],\n",
    "                          'C': ['C0', 'C1', 'C2', 'C3'],\n",
    "                          'D': ['D0', 'D1', 'D2', 'D3']})\n",
    "print(right)\n",
    "merge1= pd.merge(left,right,on='key')\n",
    "print(merge1)"
   ]
  },
  {
   "cell_type": "markdown",
   "metadata": {},
   "source": [
    "### Joining\n"
   ]
  },
  {
   "cell_type": "code",
   "execution_count": 18,
   "metadata": {},
   "outputs": [
    {
     "data": {
      "text/html": [
       "<div>\n",
       "<style scoped>\n",
       "    .dataframe tbody tr th:only-of-type {\n",
       "        vertical-align: middle;\n",
       "    }\n",
       "\n",
       "    .dataframe tbody tr th {\n",
       "        vertical-align: top;\n",
       "    }\n",
       "\n",
       "    .dataframe thead th {\n",
       "        text-align: right;\n",
       "    }\n",
       "</style>\n",
       "<table border=\"1\" class=\"dataframe\">\n",
       "  <thead>\n",
       "    <tr style=\"text-align: right;\">\n",
       "      <th></th>\n",
       "      <th>A</th>\n",
       "      <th>B</th>\n",
       "      <th>C</th>\n",
       "      <th>D</th>\n",
       "    </tr>\n",
       "  </thead>\n",
       "  <tbody>\n",
       "    <tr>\n",
       "      <th>K0</th>\n",
       "      <td>A0</td>\n",
       "      <td>B0</td>\n",
       "      <td>C0</td>\n",
       "      <td>D0</td>\n",
       "    </tr>\n",
       "    <tr>\n",
       "      <th>K1</th>\n",
       "      <td>A1</td>\n",
       "      <td>B1</td>\n",
       "      <td>NaN</td>\n",
       "      <td>NaN</td>\n",
       "    </tr>\n",
       "    <tr>\n",
       "      <th>K2</th>\n",
       "      <td>A2</td>\n",
       "      <td>B2</td>\n",
       "      <td>C2</td>\n",
       "      <td>D2</td>\n",
       "    </tr>\n",
       "  </tbody>\n",
       "</table>\n",
       "</div>"
      ],
      "text/plain": [
       "     A   B    C    D\n",
       "K0  A0  B0   C0   D0\n",
       "K1  A1  B1  NaN  NaN\n",
       "K2  A2  B2   C2   D2"
      ]
     },
     "execution_count": 18,
     "metadata": {},
     "output_type": "execute_result"
    }
   ],
   "source": [
    "left = pd.DataFrame({'A': ['A0', 'A1', 'A2'],\n",
    "                     'B': ['B0', 'B1', 'B2']},\n",
    "                      index=['K0', 'K1', 'K2']) \n",
    "\n",
    "right = pd.DataFrame({'C': ['C0', 'C2', 'C3'],\n",
    "                    'D': ['D0', 'D2', 'D3']},\n",
    "                      index=['K0', 'K2', 'K3'])\n",
    "left.join(right)"
   ]
  },
  {
   "cell_type": "markdown",
   "metadata": {},
   "source": [
    "### Applying Function\n",
    "Pandas work with **'apply'** method to accept any user-defined function"
   ]
  },
  {
   "cell_type": "code",
   "execution_count": 19,
   "metadata": {},
   "outputs": [],
   "source": [
    "def testfunc(x):\n",
    "    if (x> 500):\n",
    "        return (10*np.log10(x))\n",
    "    else:\n",
    "        return (x/10)"
   ]
  },
  {
   "cell_type": "code",
   "execution_count": 20,
   "metadata": {},
   "outputs": [
    {
     "name": "stdout",
     "output_type": "stream",
     "text": [
      "   col1  col2  col3  FuncApplied\n",
      "0     1   444   aaa    44.400000\n",
      "1     2   555    bb    27.442930\n",
      "2     3   666     c    28.234742\n",
      "3     4   444    dd    44.400000\n",
      "4     5   333  eeee    33.300000\n",
      "5     6   222   fff    22.200000\n",
      "6     7   666    gg    28.234742\n",
      "7     8   777     h    28.904210\n",
      "8     9   666   iii    28.234742\n",
      "9    10   555     j    27.442930\n",
      "   col1  col2  col3  FuncApplied  col3length\n",
      "0     1   444   aaa    44.400000           3\n",
      "1     2   555    bb    27.442930           2\n",
      "2     3   666     c    28.234742           1\n",
      "3     4   444    dd    44.400000           2\n",
      "4     5   333  eeee    33.300000           4\n",
      "5     6   222   fff    22.200000           3\n",
      "6     7   666    gg    28.234742           2\n",
      "7     8   777     h    28.904210           1\n",
      "8     9   666   iii    28.234742           3\n",
      "9    10   555     j    27.442930           1\n",
      "   col1  col2  col3  FuncApplied  col3length\n",
      "0     1   444   aaa     6.663332           3\n",
      "1     2   555    bb     5.238600           2\n",
      "2     3   666     c     5.313637           1\n",
      "3     4   444    dd     6.663332           2\n",
      "4     5   333  eeee     5.770615           4\n",
      "5     6   222   fff     4.711688           3\n",
      "6     7   666    gg     5.313637           2\n",
      "7     8   777     h     5.376264           1\n",
      "8     9   666   iii     5.313637           3\n",
      "9    10   555     j     5.238600           1\n"
     ]
    }
   ],
   "source": [
    "df = pd.DataFrame({'col1':[1,2,3,4,5,6,7,8,9,10],\n",
    "                   'col2':[444,555,666,444,333,222,666,777,666,555],\n",
    "                   'col3':'aaa bb c dd eeee fff gg h iii j'.split()})\n",
    "#print(df)\n",
    "df['FuncApplied'] = df['col2'].apply(testfunc)\n",
    "print(df)\n",
    "# It works with built-in function \n",
    "df['col3length']= df['col3'].apply(len)\n",
    "print(df)\n",
    "#It works with lambda expression too\n",
    "df['FuncApplied'] = df['FuncApplied'].apply(lambda x: np.sqrt(x))\n",
    "print(df)"
   ]
  },
  {
   "cell_type": "code",
   "execution_count": 21,
   "metadata": {},
   "outputs": [
    {
     "name": "stdout",
     "output_type": "stream",
     "text": [
      "Index(['Wine', 'Alcohol', 'Malic.acid', 'Ash', 'Acl', 'Mg', 'Phenols',\n",
      "       'Flavanoids', 'Nonflavanoid.phenols', 'Proanth', 'Color.int', 'Hue',\n",
      "       'OD', 'Proline'],\n",
      "      dtype='object')\n"
     ]
    },
    {
     "data": {
      "text/plain": [
       "Text(0.5, 1.0, 'Proline')"
      ]
     },
     "execution_count": 21,
     "metadata": {},
     "output_type": "execute_result"
    },
    {
     "data": {
      "image/png": "[encoded data removed]",
      "text/plain": [
       "<Figure size 1296x1440 with 13 Axes>"
      ]
     },
     "metadata": {
      "needs_background": "light"
     },
     "output_type": "display_data"
    }
   ],
   "source": [
    "import matplotlib.pyplot as plt\n",
    "df = pd.read_csv('wine.csv')\n",
    "print(df.columns)\n",
    "gridsize = (5,4)\n",
    "# df.fillna(-2)\n",
    "fig = plt.figure(figsize=(18, 20))\n",
    "fig.subplots_adjust(hspace=0.6)\n",
    "ax1 = plt.subplot2grid(gridsize, (1, 0))\n",
    "ax2 = plt.subplot2grid(gridsize, (1, 1))\n",
    "ax3 = plt.subplot2grid(gridsize, (1, 2))\n",
    "ax4 = plt.subplot2grid(gridsize, (1, 3))\n",
    "ax5 = plt.subplot2grid(gridsize, (2, 0))\n",
    "ax6 = plt.subplot2grid(gridsize, (2, 1))\n",
    "ax7 = plt.subplot2grid(gridsize, (2, 2))\n",
    "ax8 = plt.subplot2grid(gridsize, (2, 3))\n",
    "ax9 = plt.subplot2grid(gridsize, (3, 0))\n",
    "ax10 = plt.subplot2grid(gridsize, (3, 1))\n",
    "ax11 = plt.subplot2grid(gridsize, (3, 2))\n",
    "ax12 = plt.subplot2grid(gridsize, (3, 3))\n",
    "ax13 = plt.subplot2grid(gridsize, (4, 0))\n",
    "ax1.hist(df['Alcohol'],bins=25)\n",
    "ax1.set_title('Alcohol')\n",
    "ax2.hist(df['Malic.acid'])\n",
    "ax2.set_title('Malic.acid')\n",
    "ax3.hist(df['Ash'])\n",
    "ax3.set_title('Ash')\n",
    "ax4.hist(df['Acl'])\n",
    "ax4.set_title('Acl')\n",
    "ax5.hist(df['Mg'])\n",
    "ax5.set_title('Mg')\n",
    "ax6.hist(df['Phenols'])\n",
    "ax6.set_title('Phenols')\n",
    "ax7.hist(df['Flavanoids'])\n",
    "ax7.set_title('Falvanoids')\n",
    "ax8.hist(df['Nonflavanoid.phenols'])\n",
    "ax8.set_title('Nonflavanoid.phenols')\n",
    "ax9.hist(df['Proanth'])\n",
    "ax9.set_title('Proanth')\n",
    "ax10.hist(df['Color.int'])\n",
    "ax10.set_title('Color.int')\n",
    "ax11.hist(df['Hue'])\n",
    "ax11.set_title('Hue')\n",
    "ax12.hist(df['OD'])\n",
    "ax12.set_title('OD')\n",
    "ax13.hist(df['Proline'])\n",
    "ax13.set_title('Proline')\n",
    "# print(df.isnull())\n",
    "# print(df.head())\n",
    "# print(df.tail())\n",
    "# df['Alcohol'].hist(bins=25)\n",
    "# df['Ash'].hist(bins=25)\n",
    "# df['Malic.acid'].hist(bins=25)\n",
    "# print(pd.unique(df['Ash']))\n",
    "# print(df['Ash'].nunique())"
   ]
  },
  {
   "cell_type": "code",
   "execution_count": 22,
   "metadata": {},
   "outputs": [
    {
     "data": {
      "image/png": "[encoded data removed]",
      "text/plain": [
       "<Figure size 1080x864 with 2 Axes>"
      ]
     },
     "metadata": {
      "needs_background": "light"
     },
     "output_type": "display_data"
    }
   ],
   "source": [
    "import matplotlib.pyplot as plt\n",
    "\n",
    "f = plt.figure(figsize=(15, 12))\n",
    "plt.matshow(df.corr(method='pearson'), fignum=f.number)\n",
    "plt.xticks(range(df.shape[1]), df.columns, fontsize=14, rotation=45)\n",
    "plt.yticks(range(df.shape[1]), df.columns, fontsize=14)\n",
    "cb = plt.colorbar()\n",
    "cb.ax.tick_params(labelsize=8)\n",
    "\n",
    "# plt.title('Correlation Matrix', fontsize=16);\n",
    "# plt.matshow(df.corr())\n",
    "# plt.show()"
   ]
  },
  {
   "cell_type": "code",
   "execution_count": 23,
   "metadata": {},
   "outputs": [
    {
     "data": {
      "text/plain": [
       "<matplotlib.axes._subplots.AxesSubplot at 0x11033c0f0>"
      ]
     },
     "execution_count": 23,
     "metadata": {},
     "output_type": "execute_result"
    },
    {
     "data": {
      "image/png": "[encoded data removed]",
      "text/plain": [
       "<Figure size 432x288 with 1 Axes>"
      ]
     },
     "metadata": {
      "needs_background": "light"
     },
     "output_type": "display_data"
    }
   ],
   "source": [
    "df2 = df[['Proline' , 'Mg']]\n",
    "df2.plot.bar(stacked=True)"
   ]
  },
  {
   "cell_type": "code",
   "execution_count": 24,
   "metadata": {},
   "outputs": [
    {
     "data": {
      "text/plain": [
       "<matplotlib.axes._subplots.AxesSubplot at 0x11f725ac8>"
      ]
     },
     "execution_count": 24,
     "metadata": {},
     "output_type": "execute_result"
    },
    {
     "data": {
      "image/png": "[encoded data removed]",
      "text/plain": [
       "<Figure size 432x288 with 1 Axes>"
      ]
     },
     "metadata": {
      "needs_background": "light"
     },
     "output_type": "display_data"
    }
   ],
   "source": [
    "df2.plot.area()"
   ]
  },
  {
   "cell_type": "code",
   "execution_count": 25,
   "metadata": {},
   "outputs": [
    {
     "data": {
      "text/plain": [
       "<matplotlib.axes._subplots.AxesSubplot at 0x1201c2048>"
      ]
     },
     "execution_count": 25,
     "metadata": {},
     "output_type": "execute_result"
    },
    {
     "data": {
      "image/png": "[encoded data removed]",
      "text/plain": [
       "<Figure size 576x432 with 1 Axes>"
      ]
     },
     "metadata": {
      "needs_background": "light"
     },
     "output_type": "display_data"
    }
   ],
   "source": [
    "df.plot.scatter(x='OD',y='Hue',figsize=(8,6))"
   ]
  },
  {
   "cell_type": "code",
   "execution_count": 26,
   "metadata": {},
   "outputs": [
    {
     "data": {
      "text/plain": [
       "<matplotlib.axes._subplots.AxesSubplot at 0x11f9ade10>"
      ]
     },
     "execution_count": 26,
     "metadata": {},
     "output_type": "execute_result"
    },
    {
     "data": {
      "image/png": "[encoded data removed]",
      "text/plain": [
       "<Figure size 432x288 with 1 Axes>"
      ]
     },
     "metadata": {
      "needs_background": "light"
     },
     "output_type": "display_data"
    }
   ],
   "source": [
    "df[['Color.int','Hue']].plot.density(lw=3)"
   ]
  }
 ],
 "metadata": {
  "kernelspec": {
   "display_name": "Python 3",
   "language": "python",
   "name": "python3"
  },
  "language_info": {
   "codemirror_mode": {
    "name": "ipython",
    "version": 3
   },
   "file_extension": ".py",
   "mimetype": "text/x-python",
   "name": "python",
   "nbconvert_exporter": "python",
   "pygments_lexer": "ipython3",
   "version": "3.8.3"
  }
 },
 "nbformat": 4,
 "nbformat_minor": 4
}
